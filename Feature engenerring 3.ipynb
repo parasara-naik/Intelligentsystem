{
 "cells": [
  {
   "cell_type": "code",
   "execution_count": 1,
   "id": "fbf2b12d",
   "metadata": {},
   "outputs": [],
   "source": [
    "import numpy as np\n",
    "import pandas as pd\n",
    "import matplotlib.pyplot as plt\n",
    "import seaborn as sns"
   ]
  },
  {
   "cell_type": "code",
   "execution_count": 2,
   "id": "e14c4709",
   "metadata": {},
   "outputs": [],
   "source": [
    "pd.set_option('display.max_columns', None)"
   ]
  },
  {
   "cell_type": "code",
   "execution_count": 3,
   "id": "e30eed96",
   "metadata": {},
   "outputs": [],
   "source": [
    "df=pd.read_csv('missing_imputation_value.csv')"
   ]
  },
  {
   "cell_type": "code",
   "execution_count": 4,
   "id": "0c69872d",
   "metadata": {},
   "outputs": [
    {
     "data": {
      "text/html": [
       "<div>\n",
       "<style scoped>\n",
       "    .dataframe tbody tr th:only-of-type {\n",
       "        vertical-align: middle;\n",
       "    }\n",
       "\n",
       "    .dataframe tbody tr th {\n",
       "        vertical-align: top;\n",
       "    }\n",
       "\n",
       "    .dataframe thead th {\n",
       "        text-align: right;\n",
       "    }\n",
       "</style>\n",
       "<table border=\"1\" class=\"dataframe\">\n",
       "  <thead>\n",
       "    <tr style=\"text-align: right;\">\n",
       "      <th></th>\n",
       "      <th>society</th>\n",
       "      <th>price</th>\n",
       "      <th>price_persqft</th>\n",
       "      <th>bedRoom</th>\n",
       "      <th>bathroom</th>\n",
       "      <th>balcony</th>\n",
       "      <th>floorNum</th>\n",
       "      <th>agePossession</th>\n",
       "      <th>sector</th>\n",
       "      <th>type</th>\n",
       "      <th>built_up_area</th>\n",
       "      <th>study room</th>\n",
       "      <th>servant room</th>\n",
       "      <th>store room</th>\n",
       "      <th>pooja room</th>\n",
       "      <th>others</th>\n",
       "      <th>furnishing_type</th>\n",
       "      <th>luxury_score</th>\n",
       "    </tr>\n",
       "  </thead>\n",
       "  <tbody>\n",
       "    <tr>\n",
       "      <th>270</th>\n",
       "      <td>unitech vistas</td>\n",
       "      <td>0.53</td>\n",
       "      <td>4800.0</td>\n",
       "      <td>2.0</td>\n",
       "      <td>2.0</td>\n",
       "      <td>2</td>\n",
       "      <td>9.0</td>\n",
       "      <td>Relatively New</td>\n",
       "      <td>sector 70</td>\n",
       "      <td>flat</td>\n",
       "      <td>876.00</td>\n",
       "      <td>0</td>\n",
       "      <td>0</td>\n",
       "      <td>0</td>\n",
       "      <td>0</td>\n",
       "      <td>1</td>\n",
       "      <td>2</td>\n",
       "      <td>24</td>\n",
       "    </tr>\n",
       "    <tr>\n",
       "      <th>478</th>\n",
       "      <td>indiabulls enigma</td>\n",
       "      <td>3.40</td>\n",
       "      <td>10000.0</td>\n",
       "      <td>4.0</td>\n",
       "      <td>5.0</td>\n",
       "      <td>3</td>\n",
       "      <td>10.0</td>\n",
       "      <td>Relatively New</td>\n",
       "      <td>sector 110</td>\n",
       "      <td>flat</td>\n",
       "      <td>2800.00</td>\n",
       "      <td>0</td>\n",
       "      <td>1</td>\n",
       "      <td>0</td>\n",
       "      <td>0</td>\n",
       "      <td>0</td>\n",
       "      <td>2</td>\n",
       "      <td>152</td>\n",
       "    </tr>\n",
       "    <tr>\n",
       "      <th>2859</th>\n",
       "      <td>indepedent</td>\n",
       "      <td>3.40</td>\n",
       "      <td>12938.0</td>\n",
       "      <td>9.0</td>\n",
       "      <td>9.0</td>\n",
       "      <td>3</td>\n",
       "      <td>3.0</td>\n",
       "      <td>Moderately Old</td>\n",
       "      <td>sector 9</td>\n",
       "      <td>house</td>\n",
       "      <td>2626.00</td>\n",
       "      <td>0</td>\n",
       "      <td>0</td>\n",
       "      <td>0</td>\n",
       "      <td>0</td>\n",
       "      <td>0</td>\n",
       "      <td>0</td>\n",
       "      <td>61</td>\n",
       "    </tr>\n",
       "    <tr>\n",
       "      <th>3088</th>\n",
       "      <td>indepedent</td>\n",
       "      <td>1.40</td>\n",
       "      <td>8235.0</td>\n",
       "      <td>2.0</td>\n",
       "      <td>2.0</td>\n",
       "      <td>1</td>\n",
       "      <td>3.0</td>\n",
       "      <td>Relatively New</td>\n",
       "      <td>pratap nagar</td>\n",
       "      <td>house</td>\n",
       "      <td>1700.08</td>\n",
       "      <td>0</td>\n",
       "      <td>0</td>\n",
       "      <td>0</td>\n",
       "      <td>0</td>\n",
       "      <td>0</td>\n",
       "      <td>2</td>\n",
       "      <td>0</td>\n",
       "    </tr>\n",
       "    <tr>\n",
       "      <th>2985</th>\n",
       "      <td>indepedent</td>\n",
       "      <td>0.80</td>\n",
       "      <td>6666.0</td>\n",
       "      <td>8.0</td>\n",
       "      <td>8.0</td>\n",
       "      <td>2</td>\n",
       "      <td>1.0</td>\n",
       "      <td>Relatively New</td>\n",
       "      <td>sector 1</td>\n",
       "      <td>house</td>\n",
       "      <td>1195.00</td>\n",
       "      <td>0</td>\n",
       "      <td>0</td>\n",
       "      <td>0</td>\n",
       "      <td>0</td>\n",
       "      <td>0</td>\n",
       "      <td>2</td>\n",
       "      <td>0</td>\n",
       "    </tr>\n",
       "  </tbody>\n",
       "</table>\n",
       "</div>"
      ],
      "text/plain": [
       "                society  price  price_persqft  bedRoom  bathroom balcony  \\\n",
       "270      unitech vistas   0.53         4800.0      2.0       2.0       2   \n",
       "478   indiabulls enigma   3.40        10000.0      4.0       5.0       3   \n",
       "2859         indepedent   3.40        12938.0      9.0       9.0       3   \n",
       "3088         indepedent   1.40         8235.0      2.0       2.0       1   \n",
       "2985         indepedent   0.80         6666.0      8.0       8.0       2   \n",
       "\n",
       "      floorNum   agePossession        sector   type  built_up_area  \\\n",
       "270        9.0  Relatively New     sector 70   flat         876.00   \n",
       "478       10.0  Relatively New    sector 110   flat        2800.00   \n",
       "2859       3.0  Moderately Old      sector 9  house        2626.00   \n",
       "3088       3.0  Relatively New  pratap nagar  house        1700.08   \n",
       "2985       1.0  Relatively New      sector 1  house        1195.00   \n",
       "\n",
       "      study room  servant room  store room  pooja room  others  \\\n",
       "270            0             0           0           0       1   \n",
       "478            0             1           0           0       0   \n",
       "2859           0             0           0           0       0   \n",
       "3088           0             0           0           0       0   \n",
       "2985           0             0           0           0       0   \n",
       "\n",
       "      furnishing_type  luxury_score  \n",
       "270                 2            24  \n",
       "478                 2           152  \n",
       "2859                0            61  \n",
       "3088                2             0  \n",
       "2985                2             0  "
      ]
     },
     "execution_count": 4,
     "metadata": {},
     "output_type": "execute_result"
    }
   ],
   "source": [
    "df.sample(5)"
   ]
  },
  {
   "cell_type": "code",
   "execution_count": 5,
   "id": "12d31d86",
   "metadata": {},
   "outputs": [],
   "source": [
    "train_df=df.drop(columns=['price_persqft','society'],axis=1)"
   ]
  },
  {
   "cell_type": "code",
   "execution_count": 6,
   "id": "eda0c5da",
   "metadata": {},
   "outputs": [
    {
     "data": {
      "text/html": [
       "<div>\n",
       "<style scoped>\n",
       "    .dataframe tbody tr th:only-of-type {\n",
       "        vertical-align: middle;\n",
       "    }\n",
       "\n",
       "    .dataframe tbody tr th {\n",
       "        vertical-align: top;\n",
       "    }\n",
       "\n",
       "    .dataframe thead th {\n",
       "        text-align: right;\n",
       "    }\n",
       "</style>\n",
       "<table border=\"1\" class=\"dataframe\">\n",
       "  <thead>\n",
       "    <tr style=\"text-align: right;\">\n",
       "      <th></th>\n",
       "      <th>price</th>\n",
       "      <th>bedRoom</th>\n",
       "      <th>bathroom</th>\n",
       "      <th>balcony</th>\n",
       "      <th>floorNum</th>\n",
       "      <th>agePossession</th>\n",
       "      <th>sector</th>\n",
       "      <th>type</th>\n",
       "      <th>built_up_area</th>\n",
       "      <th>study room</th>\n",
       "      <th>servant room</th>\n",
       "      <th>store room</th>\n",
       "      <th>pooja room</th>\n",
       "      <th>others</th>\n",
       "      <th>furnishing_type</th>\n",
       "      <th>luxury_score</th>\n",
       "    </tr>\n",
       "  </thead>\n",
       "  <tbody>\n",
       "    <tr>\n",
       "      <th>1818</th>\n",
       "      <td>2.24</td>\n",
       "      <td>3.0</td>\n",
       "      <td>3.0</td>\n",
       "      <td>3</td>\n",
       "      <td>2.0</td>\n",
       "      <td>Relatively New</td>\n",
       "      <td>sector 65</td>\n",
       "      <td>flat</td>\n",
       "      <td>1650.0</td>\n",
       "      <td>1</td>\n",
       "      <td>1</td>\n",
       "      <td>0</td>\n",
       "      <td>0</td>\n",
       "      <td>0</td>\n",
       "      <td>2</td>\n",
       "      <td>46</td>\n",
       "    </tr>\n",
       "    <tr>\n",
       "      <th>422</th>\n",
       "      <td>3.50</td>\n",
       "      <td>3.0</td>\n",
       "      <td>4.0</td>\n",
       "      <td>3</td>\n",
       "      <td>17.0</td>\n",
       "      <td>Relatively New</td>\n",
       "      <td>sector 67</td>\n",
       "      <td>flat</td>\n",
       "      <td>2050.0</td>\n",
       "      <td>0</td>\n",
       "      <td>1</td>\n",
       "      <td>1</td>\n",
       "      <td>0</td>\n",
       "      <td>0</td>\n",
       "      <td>0</td>\n",
       "      <td>167</td>\n",
       "    </tr>\n",
       "    <tr>\n",
       "      <th>2603</th>\n",
       "      <td>0.70</td>\n",
       "      <td>2.0</td>\n",
       "      <td>2.0</td>\n",
       "      <td>3</td>\n",
       "      <td>9.0</td>\n",
       "      <td>New Property</td>\n",
       "      <td>sector 90</td>\n",
       "      <td>flat</td>\n",
       "      <td>1081.6</td>\n",
       "      <td>1</td>\n",
       "      <td>0</td>\n",
       "      <td>0</td>\n",
       "      <td>0</td>\n",
       "      <td>0</td>\n",
       "      <td>2</td>\n",
       "      <td>60</td>\n",
       "    </tr>\n",
       "    <tr>\n",
       "      <th>3093</th>\n",
       "      <td>5.70</td>\n",
       "      <td>9.0</td>\n",
       "      <td>9.0</td>\n",
       "      <td>3+</td>\n",
       "      <td>3.0</td>\n",
       "      <td>Moderately Old</td>\n",
       "      <td>sector 2</td>\n",
       "      <td>house</td>\n",
       "      <td>2432.0</td>\n",
       "      <td>0</td>\n",
       "      <td>0</td>\n",
       "      <td>0</td>\n",
       "      <td>1</td>\n",
       "      <td>0</td>\n",
       "      <td>0</td>\n",
       "      <td>0</td>\n",
       "    </tr>\n",
       "    <tr>\n",
       "      <th>3201</th>\n",
       "      <td>0.40</td>\n",
       "      <td>2.0</td>\n",
       "      <td>2.0</td>\n",
       "      <td>1</td>\n",
       "      <td>1.0</td>\n",
       "      <td>Relatively New</td>\n",
       "      <td>sector 2</td>\n",
       "      <td>house</td>\n",
       "      <td>525.0</td>\n",
       "      <td>0</td>\n",
       "      <td>0</td>\n",
       "      <td>0</td>\n",
       "      <td>0</td>\n",
       "      <td>0</td>\n",
       "      <td>2</td>\n",
       "      <td>0</td>\n",
       "    </tr>\n",
       "  </tbody>\n",
       "</table>\n",
       "</div>"
      ],
      "text/plain": [
       "      price  bedRoom  bathroom balcony  floorNum   agePossession     sector  \\\n",
       "1818   2.24      3.0       3.0       3       2.0  Relatively New  sector 65   \n",
       "422    3.50      3.0       4.0       3      17.0  Relatively New  sector 67   \n",
       "2603   0.70      2.0       2.0       3       9.0    New Property  sector 90   \n",
       "3093   5.70      9.0       9.0      3+       3.0  Moderately Old   sector 2   \n",
       "3201   0.40      2.0       2.0       1       1.0  Relatively New   sector 2   \n",
       "\n",
       "       type  built_up_area  study room  servant room  store room  pooja room  \\\n",
       "1818   flat         1650.0           1             1           0           0   \n",
       "422    flat         2050.0           0             1           1           0   \n",
       "2603   flat         1081.6           1             0           0           0   \n",
       "3093  house         2432.0           0             0           0           1   \n",
       "3201  house          525.0           0             0           0           0   \n",
       "\n",
       "      others  furnishing_type  luxury_score  \n",
       "1818       0                2            46  \n",
       "422        0                0           167  \n",
       "2603       0                2            60  \n",
       "3093       0                0             0  \n",
       "3201       0                2             0  "
      ]
     },
     "execution_count": 6,
     "metadata": {},
     "output_type": "execute_result"
    }
   ],
   "source": [
    "train_df.sample(5)"
   ]
  },
  {
   "cell_type": "markdown",
   "id": "6d7ccbb5",
   "metadata": {},
   "source": [
    "# --------------------------------------------------"
   ]
  },
  {
   "cell_type": "code",
   "execution_count": 7,
   "id": "df9c8e8c",
   "metadata": {},
   "outputs": [
    {
     "data": {
      "text/plain": [
       "(3709, 16)"
      ]
     },
     "execution_count": 7,
     "metadata": {},
     "output_type": "execute_result"
    }
   ],
   "source": [
    "train_df.shape"
   ]
  },
  {
   "cell_type": "code",
   "execution_count": 8,
   "id": "07301016",
   "metadata": {},
   "outputs": [
    {
     "data": {
      "text/plain": [
       "<Axes: >"
      ]
     },
     "execution_count": 8,
     "metadata": {},
     "output_type": "execute_result"
    },
    {
     "data": {
      "image/png": "[encoded data removed]",
      "text/plain": [
       "<Figure size 640x480 with 1 Axes>"
      ]
     },
     "metadata": {},
     "output_type": "display_data"
    }
   ],
   "source": [
    "sns.boxplot(train_df['luxury_score'],orient='h')"
   ]
  },
  {
   "cell_type": "code",
   "execution_count": 9,
   "id": "1af0f618",
   "metadata": {},
   "outputs": [
    {
     "name": "stdout",
     "output_type": "stream",
     "text": [
      "30.0\n",
      "58.0\n",
      "110.0\n"
     ]
    }
   ],
   "source": [
    "print(train_df['luxury_score'].quantile(0.25))\n",
    "print(train_df['luxury_score'].quantile(0.50))\n",
    "print(train_df['luxury_score'].quantile(0.75))"
   ]
  },
  {
   "cell_type": "code",
   "execution_count": 10,
   "id": "0ed145f1",
   "metadata": {},
   "outputs": [],
   "source": [
    "def categorize_luxury(score):\n",
    "    if 0 <= score < 30:\n",
    "        return \"Low\"\n",
    "    elif 30 <= score < 58:\n",
    "        return \"Normal\"\n",
    "    elif 58 <= score <= 110:\n",
    "        return \"semi_luxrious\"\n",
    "    elif score>110:\n",
    "        return 'luxrious'\n",
    "    else:\n",
    "        return None  # or \"Undefined\" or any other label for scores outside the defined bins"
   ]
  },
  {
   "cell_type": "code",
   "execution_count": 11,
   "id": "ea339a09",
   "metadata": {},
   "outputs": [],
   "source": [
    "train_df['luxury']=train_df['luxury_score'].apply(categorize_luxury)"
   ]
  },
  {
   "cell_type": "code",
   "execution_count": 12,
   "id": "8678694b",
   "metadata": {},
   "outputs": [
    {
     "data": {
      "text/plain": [
       "luxury\n",
       "semi_luxrious    953\n",
       "Normal           937\n",
       "Low              916\n",
       "luxrious         903\n",
       "Name: count, dtype: int64"
      ]
     },
     "execution_count": 12,
     "metadata": {},
     "output_type": "execute_result"
    }
   ],
   "source": [
    "train_df['luxury'].value_counts()"
   ]
  },
  {
   "cell_type": "code",
   "execution_count": 13,
   "id": "8e908607",
   "metadata": {},
   "outputs": [
    {
     "data": {
      "text/html": [
       "<div>\n",
       "<style scoped>\n",
       "    .dataframe tbody tr th:only-of-type {\n",
       "        vertical-align: middle;\n",
       "    }\n",
       "\n",
       "    .dataframe tbody tr th {\n",
       "        vertical-align: top;\n",
       "    }\n",
       "\n",
       "    .dataframe thead th {\n",
       "        text-align: right;\n",
       "    }\n",
       "</style>\n",
       "<table border=\"1\" class=\"dataframe\">\n",
       "  <thead>\n",
       "    <tr style=\"text-align: right;\">\n",
       "      <th></th>\n",
       "      <th>price</th>\n",
       "      <th>bedRoom</th>\n",
       "      <th>bathroom</th>\n",
       "      <th>balcony</th>\n",
       "      <th>floorNum</th>\n",
       "      <th>agePossession</th>\n",
       "      <th>sector</th>\n",
       "      <th>type</th>\n",
       "      <th>built_up_area</th>\n",
       "      <th>study room</th>\n",
       "      <th>servant room</th>\n",
       "      <th>store room</th>\n",
       "      <th>pooja room</th>\n",
       "      <th>others</th>\n",
       "      <th>furnishing_type</th>\n",
       "      <th>luxury_score</th>\n",
       "      <th>luxury</th>\n",
       "    </tr>\n",
       "  </thead>\n",
       "  <tbody>\n",
       "    <tr>\n",
       "      <th>0</th>\n",
       "      <td>0.45</td>\n",
       "      <td>2.0</td>\n",
       "      <td>2.0</td>\n",
       "      <td>1</td>\n",
       "      <td>4.0</td>\n",
       "      <td>Relatively New</td>\n",
       "      <td>sector 7</td>\n",
       "      <td>flat</td>\n",
       "      <td>900.0</td>\n",
       "      <td>0</td>\n",
       "      <td>0</td>\n",
       "      <td>0</td>\n",
       "      <td>0</td>\n",
       "      <td>0</td>\n",
       "      <td>2</td>\n",
       "      <td>28</td>\n",
       "      <td>Low</td>\n",
       "    </tr>\n",
       "    <tr>\n",
       "      <th>1</th>\n",
       "      <td>0.50</td>\n",
       "      <td>2.0</td>\n",
       "      <td>2.0</td>\n",
       "      <td>1</td>\n",
       "      <td>1.0</td>\n",
       "      <td>Old Property</td>\n",
       "      <td>sector 3</td>\n",
       "      <td>flat</td>\n",
       "      <td>650.0</td>\n",
       "      <td>0</td>\n",
       "      <td>0</td>\n",
       "      <td>0</td>\n",
       "      <td>0</td>\n",
       "      <td>0</td>\n",
       "      <td>0</td>\n",
       "      <td>37</td>\n",
       "      <td>Normal</td>\n",
       "    </tr>\n",
       "    <tr>\n",
       "      <th>2</th>\n",
       "      <td>0.40</td>\n",
       "      <td>2.0</td>\n",
       "      <td>2.0</td>\n",
       "      <td>3</td>\n",
       "      <td>12.0</td>\n",
       "      <td>New Property</td>\n",
       "      <td>sohna road</td>\n",
       "      <td>flat</td>\n",
       "      <td>595.0</td>\n",
       "      <td>0</td>\n",
       "      <td>0</td>\n",
       "      <td>0</td>\n",
       "      <td>0</td>\n",
       "      <td>0</td>\n",
       "      <td>2</td>\n",
       "      <td>36</td>\n",
       "      <td>Normal</td>\n",
       "    </tr>\n",
       "    <tr>\n",
       "      <th>3</th>\n",
       "      <td>1.47</td>\n",
       "      <td>2.0</td>\n",
       "      <td>2.0</td>\n",
       "      <td>2</td>\n",
       "      <td>2.0</td>\n",
       "      <td>New Property</td>\n",
       "      <td>sector 61</td>\n",
       "      <td>flat</td>\n",
       "      <td>1200.0</td>\n",
       "      <td>1</td>\n",
       "      <td>0</td>\n",
       "      <td>0</td>\n",
       "      <td>0</td>\n",
       "      <td>0</td>\n",
       "      <td>2</td>\n",
       "      <td>76</td>\n",
       "      <td>semi_luxrious</td>\n",
       "    </tr>\n",
       "    <tr>\n",
       "      <th>4</th>\n",
       "      <td>0.70</td>\n",
       "      <td>2.0</td>\n",
       "      <td>2.0</td>\n",
       "      <td>3</td>\n",
       "      <td>5.0</td>\n",
       "      <td>Under Construction</td>\n",
       "      <td>sector 92</td>\n",
       "      <td>flat</td>\n",
       "      <td>1076.0</td>\n",
       "      <td>1</td>\n",
       "      <td>0</td>\n",
       "      <td>0</td>\n",
       "      <td>0</td>\n",
       "      <td>0</td>\n",
       "      <td>2</td>\n",
       "      <td>0</td>\n",
       "      <td>Low</td>\n",
       "    </tr>\n",
       "  </tbody>\n",
       "</table>\n",
       "</div>"
      ],
      "text/plain": [
       "   price  bedRoom  bathroom balcony  floorNum       agePossession      sector  \\\n",
       "0   0.45      2.0       2.0       1       4.0      Relatively New    sector 7   \n",
       "1   0.50      2.0       2.0       1       1.0        Old Property    sector 3   \n",
       "2   0.40      2.0       2.0       3      12.0        New Property  sohna road   \n",
       "3   1.47      2.0       2.0       2       2.0        New Property   sector 61   \n",
       "4   0.70      2.0       2.0       3       5.0  Under Construction   sector 92   \n",
       "\n",
       "   type  built_up_area  study room  servant room  store room  pooja room  \\\n",
       "0  flat          900.0           0             0           0           0   \n",
       "1  flat          650.0           0             0           0           0   \n",
       "2  flat          595.0           0             0           0           0   \n",
       "3  flat         1200.0           1             0           0           0   \n",
       "4  flat         1076.0           1             0           0           0   \n",
       "\n",
       "   others  furnishing_type  luxury_score         luxury  \n",
       "0       0                2            28            Low  \n",
       "1       0                0            37         Normal  \n",
       "2       0                2            36         Normal  \n",
       "3       0                2            76  semi_luxrious  \n",
       "4       0                2             0            Low  "
      ]
     },
     "execution_count": 13,
     "metadata": {},
     "output_type": "execute_result"
    }
   ],
   "source": [
    "train_df.head(5)"
   ]
  },
  {
   "cell_type": "code",
   "execution_count": 14,
   "id": "a5bb28ba",
   "metadata": {},
   "outputs": [
    {
     "data": {
      "text/plain": [
       "<Axes: >"
      ]
     },
     "execution_count": 14,
     "metadata": {},
     "output_type": "execute_result"
    },
    {
     "data": {
      "image/png": "[encoded data removed]",
      "text/plain": [
       "<Figure size 640x480 with 1 Axes>"
      ]
     },
     "metadata": {},
     "output_type": "display_data"
    }
   ],
   "source": [
    "sns.boxplot(train_df['floorNum'],orient='h')"
   ]
  },
  {
   "cell_type": "code",
   "execution_count": 15,
   "id": "e3dfbeca",
   "metadata": {},
   "outputs": [
    {
     "data": {
      "text/plain": [
       "2.0"
      ]
     },
     "execution_count": 15,
     "metadata": {},
     "output_type": "execute_result"
    }
   ],
   "source": [
    "train_df['floorNum'].quantile(0.25)"
   ]
  },
  {
   "cell_type": "code",
   "execution_count": 16,
   "id": "53bf6bbb",
   "metadata": {},
   "outputs": [
    {
     "data": {
      "text/plain": [
       "<Axes: xlabel='floorNum', ylabel='Count'>"
      ]
     },
     "execution_count": 16,
     "metadata": {},
     "output_type": "execute_result"
    },
    {
     "data": {
      "image/png": "[encoded data removed]",
      "text/plain": [
       "<Figure size 640x480 with 1 Axes>"
      ]
     },
     "metadata": {},
     "output_type": "display_data"
    }
   ],
   "source": [
    "sns.histplot(train_df['floorNum'])"
   ]
  },
  {
   "cell_type": "code",
   "execution_count": 17,
   "id": "8beeb60f",
   "metadata": {},
   "outputs": [],
   "source": [
    "temp=train_df[train_df['floorNum']>15]"
   ]
  },
  {
   "cell_type": "code",
   "execution_count": 18,
   "id": "92a43331",
   "metadata": {},
   "outputs": [
    {
     "data": {
      "text/plain": [
       "2841.0"
      ]
     },
     "execution_count": 18,
     "metadata": {},
     "output_type": "execute_result"
    }
   ],
   "source": [
    "train_df['built_up_area'].quantile(0.90)"
   ]
  },
  {
   "cell_type": "code",
   "execution_count": 19,
   "id": "0bff6873",
   "metadata": {},
   "outputs": [
    {
     "data": {
      "text/plain": [
       "1975.052"
      ]
     },
     "execution_count": 19,
     "metadata": {},
     "output_type": "execute_result"
    }
   ],
   "source": [
    "train_df['built_up_area'].quantile(0.75)"
   ]
  },
  {
   "cell_type": "code",
   "execution_count": 20,
   "id": "158bd450",
   "metadata": {},
   "outputs": [],
   "source": [
    "tt=temp[(temp['luxury']=='luxrious')&(temp['built_up_area']>2500)]"
   ]
  },
  {
   "cell_type": "code",
   "execution_count": 21,
   "id": "e67e46d9",
   "metadata": {},
   "outputs": [
    {
     "name": "stderr",
     "output_type": "stream",
     "text": [
      "/var/folders/9h/szcjr1mj4c51q1_y7hpk6bvm0000gn/T/ipykernel_40089/109175259.py:1: SettingWithCopyWarning: \n",
      "A value is trying to be set on a copy of a slice from a DataFrame.\n",
      "Try using .loc[row_indexer,col_indexer] = value instead\n",
      "\n",
      "See the caveats in the documentation: https://pandas.pydata.org/pandas-docs/stable/user_guide/indexing.html#returning-a-view-versus-a-copy\n",
      "  tt['floorNum']='hometop'\n"
     ]
    }
   ],
   "source": [
    "tt['floorNum']='hometop'"
   ]
  },
  {
   "cell_type": "code",
   "execution_count": 22,
   "id": "d00d60bb",
   "metadata": {},
   "outputs": [],
   "source": [
    "temp.update(tt)"
   ]
  },
  {
   "cell_type": "code",
   "execution_count": 23,
   "id": "0ede1bdb",
   "metadata": {},
   "outputs": [
    {
     "data": {
      "text/html": [
       "<div>\n",
       "<style scoped>\n",
       "    .dataframe tbody tr th:only-of-type {\n",
       "        vertical-align: middle;\n",
       "    }\n",
       "\n",
       "    .dataframe tbody tr th {\n",
       "        vertical-align: top;\n",
       "    }\n",
       "\n",
       "    .dataframe thead th {\n",
       "        text-align: right;\n",
       "    }\n",
       "</style>\n",
       "<table border=\"1\" class=\"dataframe\">\n",
       "  <thead>\n",
       "    <tr style=\"text-align: right;\">\n",
       "      <th></th>\n",
       "      <th>price</th>\n",
       "      <th>bedRoom</th>\n",
       "      <th>bathroom</th>\n",
       "      <th>balcony</th>\n",
       "      <th>floorNum</th>\n",
       "      <th>agePossession</th>\n",
       "      <th>sector</th>\n",
       "      <th>type</th>\n",
       "      <th>built_up_area</th>\n",
       "      <th>study room</th>\n",
       "      <th>servant room</th>\n",
       "      <th>store room</th>\n",
       "      <th>pooja room</th>\n",
       "      <th>others</th>\n",
       "      <th>furnishing_type</th>\n",
       "      <th>luxury_score</th>\n",
       "      <th>luxury</th>\n",
       "    </tr>\n",
       "  </thead>\n",
       "  <tbody>\n",
       "    <tr>\n",
       "      <th>396</th>\n",
       "      <td>3.35</td>\n",
       "      <td>3.0</td>\n",
       "      <td>4.0</td>\n",
       "      <td>2</td>\n",
       "      <td>19.0</td>\n",
       "      <td>New Property</td>\n",
       "      <td>sector 108</td>\n",
       "      <td>flat</td>\n",
       "      <td>1658.32949</td>\n",
       "      <td>0</td>\n",
       "      <td>0</td>\n",
       "      <td>0</td>\n",
       "      <td>0</td>\n",
       "      <td>0</td>\n",
       "      <td>2</td>\n",
       "      <td>102</td>\n",
       "      <td>semi_luxrious</td>\n",
       "    </tr>\n",
       "    <tr>\n",
       "      <th>2182</th>\n",
       "      <td>1.00</td>\n",
       "      <td>2.0</td>\n",
       "      <td>2.0</td>\n",
       "      <td>3</td>\n",
       "      <td>23.0</td>\n",
       "      <td>New Property</td>\n",
       "      <td>sector 68</td>\n",
       "      <td>flat</td>\n",
       "      <td>1180.00000</td>\n",
       "      <td>0</td>\n",
       "      <td>0</td>\n",
       "      <td>0</td>\n",
       "      <td>0</td>\n",
       "      <td>0</td>\n",
       "      <td>2</td>\n",
       "      <td>49</td>\n",
       "      <td>Normal</td>\n",
       "    </tr>\n",
       "    <tr>\n",
       "      <th>1862</th>\n",
       "      <td>1.30</td>\n",
       "      <td>3.0</td>\n",
       "      <td>2.0</td>\n",
       "      <td>3</td>\n",
       "      <td>16.0</td>\n",
       "      <td>Moderately Old</td>\n",
       "      <td>sector 109</td>\n",
       "      <td>flat</td>\n",
       "      <td>1504.00000</td>\n",
       "      <td>0</td>\n",
       "      <td>0</td>\n",
       "      <td>0</td>\n",
       "      <td>0</td>\n",
       "      <td>0</td>\n",
       "      <td>2</td>\n",
       "      <td>134</td>\n",
       "      <td>luxrious</td>\n",
       "    </tr>\n",
       "    <tr>\n",
       "      <th>483</th>\n",
       "      <td>1.80</td>\n",
       "      <td>3.0</td>\n",
       "      <td>4.0</td>\n",
       "      <td>3</td>\n",
       "      <td>17.0</td>\n",
       "      <td>Relatively New</td>\n",
       "      <td>sector 102</td>\n",
       "      <td>flat</td>\n",
       "      <td>1511.20000</td>\n",
       "      <td>0</td>\n",
       "      <td>1</td>\n",
       "      <td>0</td>\n",
       "      <td>0</td>\n",
       "      <td>0</td>\n",
       "      <td>2</td>\n",
       "      <td>49</td>\n",
       "      <td>Normal</td>\n",
       "    </tr>\n",
       "    <tr>\n",
       "      <th>156</th>\n",
       "      <td>1.45</td>\n",
       "      <td>3.0</td>\n",
       "      <td>2.0</td>\n",
       "      <td>3+</td>\n",
       "      <td>20.0</td>\n",
       "      <td>Under Construction</td>\n",
       "      <td>sector 33</td>\n",
       "      <td>flat</td>\n",
       "      <td>86.00000</td>\n",
       "      <td>1</td>\n",
       "      <td>0</td>\n",
       "      <td>0</td>\n",
       "      <td>0</td>\n",
       "      <td>0</td>\n",
       "      <td>2</td>\n",
       "      <td>144</td>\n",
       "      <td>luxrious</td>\n",
       "    </tr>\n",
       "  </tbody>\n",
       "</table>\n",
       "</div>"
      ],
      "text/plain": [
       "      price  bedRoom  bathroom balcony floorNum       agePossession  \\\n",
       "396    3.35      3.0       4.0       2     19.0        New Property   \n",
       "2182   1.00      2.0       2.0       3     23.0        New Property   \n",
       "1862   1.30      3.0       2.0       3     16.0      Moderately Old   \n",
       "483    1.80      3.0       4.0       3     17.0      Relatively New   \n",
       "156    1.45      3.0       2.0      3+     20.0  Under Construction   \n",
       "\n",
       "          sector  type  built_up_area  study room  servant room  store room  \\\n",
       "396   sector 108  flat     1658.32949           0             0           0   \n",
       "2182   sector 68  flat     1180.00000           0             0           0   \n",
       "1862  sector 109  flat     1504.00000           0             0           0   \n",
       "483   sector 102  flat     1511.20000           0             1           0   \n",
       "156    sector 33  flat       86.00000           1             0           0   \n",
       "\n",
       "      pooja room  others  furnishing_type  luxury_score         luxury  \n",
       "396            0       0                2           102  semi_luxrious  \n",
       "2182           0       0                2            49         Normal  \n",
       "1862           0       0                2           134       luxrious  \n",
       "483            0       0                2            49         Normal  \n",
       "156            0       0                2           144       luxrious  "
      ]
     },
     "execution_count": 23,
     "metadata": {},
     "output_type": "execute_result"
    }
   ],
   "source": [
    "temp.sample(5)"
   ]
  },
  {
   "cell_type": "code",
   "execution_count": 24,
   "id": "bab95ca7",
   "metadata": {},
   "outputs": [
    {
     "data": {
      "text/plain": [
       "(304, 17)"
      ]
     },
     "execution_count": 24,
     "metadata": {},
     "output_type": "execute_result"
    }
   ],
   "source": [
    "temp.shape"
   ]
  },
  {
   "cell_type": "code",
   "execution_count": 25,
   "id": "659dc595",
   "metadata": {},
   "outputs": [],
   "source": [
    "train_df.update(temp)"
   ]
  },
  {
   "cell_type": "code",
   "execution_count": 26,
   "id": "36fa2c06",
   "metadata": {},
   "outputs": [],
   "source": [
    "ter=train_df[train_df['floorNum']!='hometop']"
   ]
  },
  {
   "cell_type": "code",
   "execution_count": 27,
   "id": "4b9d2583",
   "metadata": {},
   "outputs": [
    {
     "data": {
      "text/html": [
       "<div>\n",
       "<style scoped>\n",
       "    .dataframe tbody tr th:only-of-type {\n",
       "        vertical-align: middle;\n",
       "    }\n",
       "\n",
       "    .dataframe tbody tr th {\n",
       "        vertical-align: top;\n",
       "    }\n",
       "\n",
       "    .dataframe thead th {\n",
       "        text-align: right;\n",
       "    }\n",
       "</style>\n",
       "<table border=\"1\" class=\"dataframe\">\n",
       "  <thead>\n",
       "    <tr style=\"text-align: right;\">\n",
       "      <th></th>\n",
       "      <th>price</th>\n",
       "      <th>bedRoom</th>\n",
       "      <th>bathroom</th>\n",
       "      <th>balcony</th>\n",
       "      <th>floorNum</th>\n",
       "      <th>agePossession</th>\n",
       "      <th>sector</th>\n",
       "      <th>type</th>\n",
       "      <th>built_up_area</th>\n",
       "      <th>study room</th>\n",
       "      <th>servant room</th>\n",
       "      <th>store room</th>\n",
       "      <th>pooja room</th>\n",
       "      <th>others</th>\n",
       "      <th>furnishing_type</th>\n",
       "      <th>luxury_score</th>\n",
       "      <th>luxury</th>\n",
       "    </tr>\n",
       "  </thead>\n",
       "  <tbody>\n",
       "    <tr>\n",
       "      <th>1065</th>\n",
       "      <td>1.05</td>\n",
       "      <td>3.0</td>\n",
       "      <td>4.0</td>\n",
       "      <td>3+</td>\n",
       "      <td>7.0</td>\n",
       "      <td>Relatively New</td>\n",
       "      <td>sector 104</td>\n",
       "      <td>flat</td>\n",
       "      <td>1800.0</td>\n",
       "      <td>0</td>\n",
       "      <td>1</td>\n",
       "      <td>0</td>\n",
       "      <td>0</td>\n",
       "      <td>0</td>\n",
       "      <td>0</td>\n",
       "      <td>96</td>\n",
       "      <td>semi_luxrious</td>\n",
       "    </tr>\n",
       "    <tr>\n",
       "      <th>749</th>\n",
       "      <td>6.50</td>\n",
       "      <td>4.0</td>\n",
       "      <td>5.0</td>\n",
       "      <td>3+</td>\n",
       "      <td>10.0</td>\n",
       "      <td>Relatively New</td>\n",
       "      <td>sector 53</td>\n",
       "      <td>flat</td>\n",
       "      <td>2500.0</td>\n",
       "      <td>1</td>\n",
       "      <td>1</td>\n",
       "      <td>0</td>\n",
       "      <td>1</td>\n",
       "      <td>0</td>\n",
       "      <td>0</td>\n",
       "      <td>174</td>\n",
       "      <td>luxrious</td>\n",
       "    </tr>\n",
       "    <tr>\n",
       "      <th>3266</th>\n",
       "      <td>0.70</td>\n",
       "      <td>4.0</td>\n",
       "      <td>3.0</td>\n",
       "      <td>2</td>\n",
       "      <td>3.0</td>\n",
       "      <td>Relatively New</td>\n",
       "      <td>dhankot</td>\n",
       "      <td>house</td>\n",
       "      <td>721.0</td>\n",
       "      <td>0</td>\n",
       "      <td>0</td>\n",
       "      <td>1</td>\n",
       "      <td>1</td>\n",
       "      <td>0</td>\n",
       "      <td>2</td>\n",
       "      <td>12</td>\n",
       "      <td>Low</td>\n",
       "    </tr>\n",
       "    <tr>\n",
       "      <th>1157</th>\n",
       "      <td>0.50</td>\n",
       "      <td>2.0</td>\n",
       "      <td>2.0</td>\n",
       "      <td>3</td>\n",
       "      <td>6.0</td>\n",
       "      <td>Relatively New</td>\n",
       "      <td>sector 81</td>\n",
       "      <td>flat</td>\n",
       "      <td>635.0</td>\n",
       "      <td>0</td>\n",
       "      <td>0</td>\n",
       "      <td>0</td>\n",
       "      <td>0</td>\n",
       "      <td>0</td>\n",
       "      <td>2</td>\n",
       "      <td>117</td>\n",
       "      <td>luxrious</td>\n",
       "    </tr>\n",
       "    <tr>\n",
       "      <th>1761</th>\n",
       "      <td>1.40</td>\n",
       "      <td>3.0</td>\n",
       "      <td>3.0</td>\n",
       "      <td>2</td>\n",
       "      <td>1.0</td>\n",
       "      <td>Relatively New</td>\n",
       "      <td>sector 69</td>\n",
       "      <td>flat</td>\n",
       "      <td>1262.4</td>\n",
       "      <td>0</td>\n",
       "      <td>0</td>\n",
       "      <td>0</td>\n",
       "      <td>0</td>\n",
       "      <td>0</td>\n",
       "      <td>2</td>\n",
       "      <td>95</td>\n",
       "      <td>semi_luxrious</td>\n",
       "    </tr>\n",
       "  </tbody>\n",
       "</table>\n",
       "</div>"
      ],
      "text/plain": [
       "      price  bedRoom  bathroom balcony floorNum   agePossession      sector  \\\n",
       "1065   1.05      3.0       4.0      3+      7.0  Relatively New  sector 104   \n",
       "749    6.50      4.0       5.0      3+     10.0  Relatively New   sector 53   \n",
       "3266   0.70      4.0       3.0       2      3.0  Relatively New     dhankot   \n",
       "1157   0.50      2.0       2.0       3      6.0  Relatively New   sector 81   \n",
       "1761   1.40      3.0       3.0       2      1.0  Relatively New   sector 69   \n",
       "\n",
       "       type  built_up_area  study room  servant room  store room  pooja room  \\\n",
       "1065   flat         1800.0           0             1           0           0   \n",
       "749    flat         2500.0           1             1           0           1   \n",
       "3266  house          721.0           0             0           1           1   \n",
       "1157   flat          635.0           0             0           0           0   \n",
       "1761   flat         1262.4           0             0           0           0   \n",
       "\n",
       "      others  furnishing_type  luxury_score         luxury  \n",
       "1065       0                0            96  semi_luxrious  \n",
       "749        0                0           174       luxrious  \n",
       "3266       0                2            12            Low  \n",
       "1157       0                2           117       luxrious  \n",
       "1761       0                2            95  semi_luxrious  "
      ]
     },
     "execution_count": 27,
     "metadata": {},
     "output_type": "execute_result"
    }
   ],
   "source": [
    "ter.sample(5)"
   ]
  },
  {
   "cell_type": "code",
   "execution_count": 28,
   "id": "8ce94abf",
   "metadata": {},
   "outputs": [
    {
     "data": {
      "text/plain": [
       "<Axes: >"
      ]
     },
     "execution_count": 28,
     "metadata": {},
     "output_type": "execute_result"
    },
    {
     "data": {
      "image/png": "[encoded data removed]",
      "text/plain": [
       "<Figure size 640x480 with 1 Axes>"
      ]
     },
     "metadata": {},
     "output_type": "display_data"
    }
   ],
   "source": [
    "sns.boxplot(ter['floorNum'],orient='h')"
   ]
  },
  {
   "cell_type": "code",
   "execution_count": 29,
   "id": "b8371dff",
   "metadata": {},
   "outputs": [
    {
     "name": "stdout",
     "output_type": "stream",
     "text": [
      "2.0\n",
      "5.0\n",
      "10.0\n",
      "14.0\n"
     ]
    }
   ],
   "source": [
    "print(ter['floorNum'].quantile(0.25))\n",
    "print(ter['floorNum'].quantile(0.5))\n",
    "print(ter['floorNum'].quantile(0.75))\n",
    "print(ter['floorNum'].quantile(0.9))"
   ]
  },
  {
   "cell_type": "code",
   "execution_count": 30,
   "id": "71ef3e2a",
   "metadata": {},
   "outputs": [],
   "source": [
    "def categorize_floor(floor):\n",
    "    if floor==0:\n",
    "        return 'groundfloor'\n",
    "    if 0 < floor < 5:\n",
    "        return \"Low Floor\"\n",
    "    elif 5 <= floor <= 10:\n",
    "        return \"Mid Floor\"\n",
    "    elif 11 <= floor <= 51:\n",
    "        return \"High Floor\"\n",
    "    else:\n",
    "        return None"
   ]
  },
  {
   "cell_type": "code",
   "execution_count": 31,
   "id": "1d8f383b",
   "metadata": {},
   "outputs": [
    {
     "name": "stderr",
     "output_type": "stream",
     "text": [
      "/var/folders/9h/szcjr1mj4c51q1_y7hpk6bvm0000gn/T/ipykernel_40089/926870377.py:1: SettingWithCopyWarning: \n",
      "A value is trying to be set on a copy of a slice from a DataFrame.\n",
      "Try using .loc[row_indexer,col_indexer] = value instead\n",
      "\n",
      "See the caveats in the documentation: https://pandas.pydata.org/pandas-docs/stable/user_guide/indexing.html#returning-a-view-versus-a-copy\n",
      "  ter['floorNum']=ter['floorNum'].apply(categorize_floor)\n"
     ]
    }
   ],
   "source": [
    "ter['floorNum']=ter['floorNum'].apply(categorize_floor)"
   ]
  },
  {
   "cell_type": "code",
   "execution_count": 32,
   "id": "da89578a",
   "metadata": {},
   "outputs": [
    {
     "data": {
      "text/plain": [
       "floorNum\n",
       "Low Floor      1708\n",
       "Mid Floor      1064\n",
       "High Floor      787\n",
       "groundfloor     133\n",
       "Name: count, dtype: int64"
      ]
     },
     "execution_count": 32,
     "metadata": {},
     "output_type": "execute_result"
    }
   ],
   "source": [
    "ter['floorNum'].value_counts()"
   ]
  },
  {
   "cell_type": "code",
   "execution_count": 33,
   "id": "bf6ebeec",
   "metadata": {},
   "outputs": [
    {
     "data": {
      "text/plain": [
       "count    133.000000\n",
       "mean       1.567218\n",
       "std        1.392942\n",
       "min        0.130000\n",
       "25%        0.740000\n",
       "50%        1.200000\n",
       "75%        1.900000\n",
       "max        7.250000\n",
       "Name: price, dtype: float64"
      ]
     },
     "execution_count": 33,
     "metadata": {},
     "output_type": "execute_result"
    }
   ],
   "source": [
    "ter[ter['floorNum']=='groundfloor']['price'].describe()"
   ]
  },
  {
   "cell_type": "code",
   "execution_count": 34,
   "id": "32ad6d49",
   "metadata": {},
   "outputs": [
    {
     "data": {
      "text/plain": [
       "count     133.000000\n",
       "mean     1458.793797\n",
       "std      1030.951642\n",
       "min        72.000000\n",
       "25%       788.000000\n",
       "50%      1262.400000\n",
       "75%      1785.000000\n",
       "max      8136.000000\n",
       "Name: built_up_area, dtype: float64"
      ]
     },
     "execution_count": 34,
     "metadata": {},
     "output_type": "execute_result"
    }
   ],
   "source": [
    "ter[ter['floorNum']=='groundfloor']['built_up_area'].describe()"
   ]
  },
  {
   "cell_type": "code",
   "execution_count": 35,
   "id": "80ed526c",
   "metadata": {},
   "outputs": [
    {
     "data": {
      "text/plain": [
       "<Axes: xlabel='floorNum', ylabel='price'>"
      ]
     },
     "execution_count": 35,
     "metadata": {},
     "output_type": "execute_result"
    },
    {
     "data": {
      "image/png": "[encoded data removed]",
      "text/plain": [
       "<Figure size 640x480 with 1 Axes>"
      ]
     },
     "metadata": {},
     "output_type": "display_data"
    }
   ],
   "source": [
    "sns.barplot(data=ter,x='floorNum',y='price')"
   ]
  },
  {
   "cell_type": "code",
   "execution_count": 36,
   "id": "e6167e86",
   "metadata": {},
   "outputs": [
    {
     "data": {
      "text/plain": [
       "<Axes: xlabel='floorNum', ylabel='built_up_area'>"
      ]
     },
     "execution_count": 36,
     "metadata": {},
     "output_type": "execute_result"
    },
    {
     "data": {
      "image/png": "[encoded data removed]",
      "text/plain": [
       "<Figure size 640x480 with 1 Axes>"
      ]
     },
     "metadata": {},
     "output_type": "display_data"
    }
   ],
   "source": [
    "sns.barplot(data=ter,x='floorNum',y='built_up_area')"
   ]
  },
  {
   "cell_type": "markdown",
   "id": "68b5e16b",
   "metadata": {},
   "source": [
    "trend is same so this approch may be right"
   ]
  },
  {
   "cell_type": "code",
   "execution_count": 37,
   "id": "882f52b1",
   "metadata": {},
   "outputs": [],
   "source": [
    "train_df.update(ter)"
   ]
  },
  {
   "cell_type": "code",
   "execution_count": 38,
   "id": "f2f23092",
   "metadata": {},
   "outputs": [
    {
     "data": {
      "text/plain": [
       "floorNum\n",
       "Low Floor      1708\n",
       "Mid Floor      1064\n",
       "High Floor      787\n",
       "groundfloor     133\n",
       "hometop          17\n",
       "Name: count, dtype: int64"
      ]
     },
     "execution_count": 38,
     "metadata": {},
     "output_type": "execute_result"
    }
   ],
   "source": [
    "train_df['floorNum'].value_counts()"
   ]
  },
  {
   "cell_type": "code",
   "execution_count": 39,
   "id": "daeafa40",
   "metadata": {},
   "outputs": [
    {
     "data": {
      "text/plain": [
       "<Axes: xlabel='floorNum', ylabel='price'>"
      ]
     },
     "execution_count": 39,
     "metadata": {},
     "output_type": "execute_result"
    },
    {
     "data": {
      "image/png": "[encoded data removed]",
      "text/plain": [
       "<Figure size 640x480 with 1 Axes>"
      ]
     },
     "metadata": {},
     "output_type": "display_data"
    }
   ],
   "source": [
    "sns.barplot(data=train_df,x='floorNum',y='price')"
   ]
  },
  {
   "cell_type": "code",
   "execution_count": 40,
   "id": "501e5128",
   "metadata": {},
   "outputs": [
    {
     "data": {
      "text/html": [
       "<div>\n",
       "<style scoped>\n",
       "    .dataframe tbody tr th:only-of-type {\n",
       "        vertical-align: middle;\n",
       "    }\n",
       "\n",
       "    .dataframe tbody tr th {\n",
       "        vertical-align: top;\n",
       "    }\n",
       "\n",
       "    .dataframe thead th {\n",
       "        text-align: right;\n",
       "    }\n",
       "</style>\n",
       "<table border=\"1\" class=\"dataframe\">\n",
       "  <thead>\n",
       "    <tr style=\"text-align: right;\">\n",
       "      <th></th>\n",
       "      <th>price</th>\n",
       "      <th>bedRoom</th>\n",
       "      <th>bathroom</th>\n",
       "      <th>balcony</th>\n",
       "      <th>floorNum</th>\n",
       "      <th>agePossession</th>\n",
       "      <th>sector</th>\n",
       "      <th>type</th>\n",
       "      <th>built_up_area</th>\n",
       "      <th>study room</th>\n",
       "      <th>servant room</th>\n",
       "      <th>store room</th>\n",
       "      <th>pooja room</th>\n",
       "      <th>others</th>\n",
       "      <th>furnishing_type</th>\n",
       "      <th>luxury_score</th>\n",
       "      <th>luxury</th>\n",
       "    </tr>\n",
       "  </thead>\n",
       "  <tbody>\n",
       "    <tr>\n",
       "      <th>710</th>\n",
       "      <td>1.15</td>\n",
       "      <td>2.0</td>\n",
       "      <td>2.0</td>\n",
       "      <td>3</td>\n",
       "      <td>High Floor</td>\n",
       "      <td>Relatively New</td>\n",
       "      <td>sector 88a</td>\n",
       "      <td>flat</td>\n",
       "      <td>1168.00</td>\n",
       "      <td>1</td>\n",
       "      <td>0</td>\n",
       "      <td>0</td>\n",
       "      <td>1</td>\n",
       "      <td>0</td>\n",
       "      <td>2</td>\n",
       "      <td>174</td>\n",
       "      <td>luxrious</td>\n",
       "    </tr>\n",
       "    <tr>\n",
       "      <th>3306</th>\n",
       "      <td>1.70</td>\n",
       "      <td>5.0</td>\n",
       "      <td>5.0</td>\n",
       "      <td>3</td>\n",
       "      <td>Low Floor</td>\n",
       "      <td>Moderately Old</td>\n",
       "      <td>sector 12</td>\n",
       "      <td>house</td>\n",
       "      <td>2001.36</td>\n",
       "      <td>0</td>\n",
       "      <td>0</td>\n",
       "      <td>0</td>\n",
       "      <td>1</td>\n",
       "      <td>1</td>\n",
       "      <td>2</td>\n",
       "      <td>9</td>\n",
       "      <td>Low</td>\n",
       "    </tr>\n",
       "    <tr>\n",
       "      <th>3282</th>\n",
       "      <td>0.75</td>\n",
       "      <td>3.0</td>\n",
       "      <td>1.0</td>\n",
       "      <td>0</td>\n",
       "      <td>Low Floor</td>\n",
       "      <td>New Property</td>\n",
       "      <td>sector 36</td>\n",
       "      <td>house</td>\n",
       "      <td>1076.00</td>\n",
       "      <td>0</td>\n",
       "      <td>0</td>\n",
       "      <td>0</td>\n",
       "      <td>0</td>\n",
       "      <td>0</td>\n",
       "      <td>2</td>\n",
       "      <td>0</td>\n",
       "      <td>Low</td>\n",
       "    </tr>\n",
       "    <tr>\n",
       "      <th>2549</th>\n",
       "      <td>1.05</td>\n",
       "      <td>3.0</td>\n",
       "      <td>3.0</td>\n",
       "      <td>3+</td>\n",
       "      <td>Mid Floor</td>\n",
       "      <td>Relatively New</td>\n",
       "      <td>sector 76</td>\n",
       "      <td>flat</td>\n",
       "      <td>1412.00</td>\n",
       "      <td>0</td>\n",
       "      <td>0</td>\n",
       "      <td>0</td>\n",
       "      <td>0</td>\n",
       "      <td>0</td>\n",
       "      <td>0</td>\n",
       "      <td>133</td>\n",
       "      <td>luxrious</td>\n",
       "    </tr>\n",
       "    <tr>\n",
       "      <th>1109</th>\n",
       "      <td>1.38</td>\n",
       "      <td>3.0</td>\n",
       "      <td>3.0</td>\n",
       "      <td>1</td>\n",
       "      <td>High Floor</td>\n",
       "      <td>Relatively New</td>\n",
       "      <td>sector 69</td>\n",
       "      <td>flat</td>\n",
       "      <td>1230.40</td>\n",
       "      <td>0</td>\n",
       "      <td>0</td>\n",
       "      <td>0</td>\n",
       "      <td>1</td>\n",
       "      <td>0</td>\n",
       "      <td>2</td>\n",
       "      <td>86</td>\n",
       "      <td>semi_luxrious</td>\n",
       "    </tr>\n",
       "  </tbody>\n",
       "</table>\n",
       "</div>"
      ],
      "text/plain": [
       "      price  bedRoom  bathroom balcony    floorNum   agePossession  \\\n",
       "710    1.15      2.0       2.0       3  High Floor  Relatively New   \n",
       "3306   1.70      5.0       5.0       3   Low Floor  Moderately Old   \n",
       "3282   0.75      3.0       1.0       0   Low Floor    New Property   \n",
       "2549   1.05      3.0       3.0      3+   Mid Floor  Relatively New   \n",
       "1109   1.38      3.0       3.0       1  High Floor  Relatively New   \n",
       "\n",
       "          sector   type  built_up_area  study room  servant room  store room  \\\n",
       "710   sector 88a   flat        1168.00           1             0           0   \n",
       "3306   sector 12  house        2001.36           0             0           0   \n",
       "3282   sector 36  house        1076.00           0             0           0   \n",
       "2549   sector 76   flat        1412.00           0             0           0   \n",
       "1109   sector 69   flat        1230.40           0             0           0   \n",
       "\n",
       "      pooja room  others  furnishing_type  luxury_score         luxury  \n",
       "710            1       0                2           174       luxrious  \n",
       "3306           1       1                2             9            Low  \n",
       "3282           0       0                2             0            Low  \n",
       "2549           0       0                0           133       luxrious  \n",
       "1109           1       0                2            86  semi_luxrious  "
      ]
     },
     "execution_count": 40,
     "metadata": {},
     "output_type": "execute_result"
    }
   ],
   "source": [
    "train_df.sample(5)"
   ]
  },
  {
   "cell_type": "code",
   "execution_count": 41,
   "id": "3b62e5dc",
   "metadata": {},
   "outputs": [],
   "source": [
    "train_df.rename(columns={'floorNum':'floor_type'},inplace=True)"
   ]
  },
  {
   "cell_type": "code",
   "execution_count": 42,
   "id": "dbd1b953",
   "metadata": {},
   "outputs": [],
   "source": [
    "train_df.drop(columns='luxury_score',axis=1,inplace=True)"
   ]
  },
  {
   "cell_type": "code",
   "execution_count": 43,
   "id": "aaaa8ab2",
   "metadata": {},
   "outputs": [
    {
     "data": {
      "text/plain": [
       "<Axes: xlabel='floor_type', ylabel='built_up_area'>"
      ]
     },
     "execution_count": 43,
     "metadata": {},
     "output_type": "execute_result"
    },
    {
     "data": {
      "image/png": "[encoded data removed]",
      "text/plain": [
       "<Figure size 640x480 with 1 Axes>"
      ]
     },
     "metadata": {},
     "output_type": "display_data"
    }
   ],
   "source": [
    "sns.barplot(data=train_df,x='floor_type',y='built_up_area')"
   ]
  },
  {
   "cell_type": "code",
   "execution_count": 44,
   "id": "8aaa6ae5",
   "metadata": {},
   "outputs": [
    {
     "data": {
      "text/plain": [
       "Index(['price', 'bedRoom', 'bathroom', 'balcony', 'floor_type',\n",
       "       'agePossession', 'sector', 'type', 'built_up_area', 'study room',\n",
       "       'servant room', 'store room', 'pooja room', 'others', 'furnishing_type',\n",
       "       'luxury'],\n",
       "      dtype='object')"
      ]
     },
     "execution_count": 44,
     "metadata": {},
     "output_type": "execute_result"
    }
   ],
   "source": [
    "''' balcony 3+ treat like a different category '''\n",
    "train_df.columns\n",
    "   "
   ]
  },
  {
   "cell_type": "markdown",
   "id": "0b114cc0",
   "metadata": {},
   "source": [
    "'''(floor_type ,agePossession, type, luxury) -->encoding\n",
    "     floor_type-->ordinal encoding\n",
    "      agepossesion-->            ,\n",
    "      type-->one hot encoding\n",
    "      luxury-->ordinal encoding'''"
   ]
  },
  {
   "cell_type": "code",
   "execution_count": 45,
   "id": "b5eea70f",
   "metadata": {},
   "outputs": [
    {
     "data": {
      "text/plain": [
       "(array([0, 1, 2, 3, 4]),\n",
       " [Text(0, 0, 'Relatively New'),\n",
       "  Text(1, 0, 'Old Property'),\n",
       "  Text(2, 0, 'New Property'),\n",
       "  Text(3, 0, 'Under Construction'),\n",
       "  Text(4, 0, 'Moderately Old')])"
      ]
     },
     "execution_count": 45,
     "metadata": {},
     "output_type": "execute_result"
    },
    {
     "data": {
      "image/png": "[encoded data removed]",
      "text/plain": [
       "<Figure size 640x480 with 1 Axes>"
      ]
     },
     "metadata": {},
     "output_type": "display_data"
    }
   ],
   "source": [
    "sns.barplot(data=train_df,x='agePossession',y='price')\n",
    "plt.xticks(rotation=90)"
   ]
  },
  {
   "cell_type": "code",
   "execution_count": 79,
   "id": "81c6daf1",
   "metadata": {},
   "outputs": [
    {
     "data": {
      "text/plain": [
       "<Axes: xlabel='balcony', ylabel='price'>"
      ]
     },
     "execution_count": 79,
     "metadata": {},
     "output_type": "execute_result"
    },
    {
     "data": {
      "image/png": "[encoded data removed]",
      "text/plain": [
       "<Figure size 640x480 with 1 Axes>"
      ]
     },
     "metadata": {},
     "output_type": "display_data"
    }
   ],
   "source": [
    "sns.barplot(data=train_df,x='balcony',y='price')"
   ]
  },
  {
   "cell_type": "code",
   "execution_count": 46,
   "id": "3320682b",
   "metadata": {},
   "outputs": [],
   "source": [
    "train_df = train_df.sample(frac=1).reset_index(drop=True)"
   ]
  },
  {
   "cell_type": "code",
   "execution_count": 47,
   "id": "9fc6129a",
   "metadata": {},
   "outputs": [
    {
     "data": {
      "text/html": [
       "<div>\n",
       "<style scoped>\n",
       "    .dataframe tbody tr th:only-of-type {\n",
       "        vertical-align: middle;\n",
       "    }\n",
       "\n",
       "    .dataframe tbody tr th {\n",
       "        vertical-align: top;\n",
       "    }\n",
       "\n",
       "    .dataframe thead th {\n",
       "        text-align: right;\n",
       "    }\n",
       "</style>\n",
       "<table border=\"1\" class=\"dataframe\">\n",
       "  <thead>\n",
       "    <tr style=\"text-align: right;\">\n",
       "      <th></th>\n",
       "      <th>price</th>\n",
       "      <th>bedRoom</th>\n",
       "      <th>bathroom</th>\n",
       "      <th>balcony</th>\n",
       "      <th>floor_type</th>\n",
       "      <th>agePossession</th>\n",
       "      <th>sector</th>\n",
       "      <th>type</th>\n",
       "      <th>built_up_area</th>\n",
       "      <th>study room</th>\n",
       "      <th>servant room</th>\n",
       "      <th>store room</th>\n",
       "      <th>pooja room</th>\n",
       "      <th>others</th>\n",
       "      <th>furnishing_type</th>\n",
       "      <th>luxury</th>\n",
       "    </tr>\n",
       "  </thead>\n",
       "  <tbody>\n",
       "    <tr>\n",
       "      <th>2118</th>\n",
       "      <td>1.15</td>\n",
       "      <td>2.0</td>\n",
       "      <td>2.0</td>\n",
       "      <td>3</td>\n",
       "      <td>Mid Floor</td>\n",
       "      <td>Relatively New</td>\n",
       "      <td>sector 103</td>\n",
       "      <td>flat</td>\n",
       "      <td>865.000000</td>\n",
       "      <td>1</td>\n",
       "      <td>0</td>\n",
       "      <td>0</td>\n",
       "      <td>0</td>\n",
       "      <td>0</td>\n",
       "      <td>0</td>\n",
       "      <td>luxrious</td>\n",
       "    </tr>\n",
       "    <tr>\n",
       "      <th>3285</th>\n",
       "      <td>1.75</td>\n",
       "      <td>4.0</td>\n",
       "      <td>4.0</td>\n",
       "      <td>0</td>\n",
       "      <td>High Floor</td>\n",
       "      <td>New Property</td>\n",
       "      <td>sector 76</td>\n",
       "      <td>house</td>\n",
       "      <td>2800.000000</td>\n",
       "      <td>0</td>\n",
       "      <td>0</td>\n",
       "      <td>0</td>\n",
       "      <td>0</td>\n",
       "      <td>0</td>\n",
       "      <td>2</td>\n",
       "      <td>Low</td>\n",
       "    </tr>\n",
       "    <tr>\n",
       "      <th>2129</th>\n",
       "      <td>0.26</td>\n",
       "      <td>2.0</td>\n",
       "      <td>2.0</td>\n",
       "      <td>1</td>\n",
       "      <td>Mid Floor</td>\n",
       "      <td>Relatively New</td>\n",
       "      <td>sohna road</td>\n",
       "      <td>flat</td>\n",
       "      <td>481.684525</td>\n",
       "      <td>0</td>\n",
       "      <td>0</td>\n",
       "      <td>0</td>\n",
       "      <td>0</td>\n",
       "      <td>0</td>\n",
       "      <td>2</td>\n",
       "      <td>semi_luxrious</td>\n",
       "    </tr>\n",
       "    <tr>\n",
       "      <th>105</th>\n",
       "      <td>0.80</td>\n",
       "      <td>2.0</td>\n",
       "      <td>2.0</td>\n",
       "      <td>2</td>\n",
       "      <td>Mid Floor</td>\n",
       "      <td>Under Construction</td>\n",
       "      <td>sector 89</td>\n",
       "      <td>flat</td>\n",
       "      <td>1297.000000</td>\n",
       "      <td>0</td>\n",
       "      <td>0</td>\n",
       "      <td>0</td>\n",
       "      <td>0</td>\n",
       "      <td>0</td>\n",
       "      <td>2</td>\n",
       "      <td>Normal</td>\n",
       "    </tr>\n",
       "    <tr>\n",
       "      <th>1879</th>\n",
       "      <td>0.63</td>\n",
       "      <td>2.0</td>\n",
       "      <td>2.0</td>\n",
       "      <td>3+</td>\n",
       "      <td>Low Floor</td>\n",
       "      <td>Relatively New</td>\n",
       "      <td>sector 82</td>\n",
       "      <td>flat</td>\n",
       "      <td>907.200000</td>\n",
       "      <td>1</td>\n",
       "      <td>0</td>\n",
       "      <td>0</td>\n",
       "      <td>0</td>\n",
       "      <td>0</td>\n",
       "      <td>2</td>\n",
       "      <td>semi_luxrious</td>\n",
       "    </tr>\n",
       "  </tbody>\n",
       "</table>\n",
       "</div>"
      ],
      "text/plain": [
       "      price  bedRoom  bathroom balcony  floor_type       agePossession  \\\n",
       "2118   1.15      2.0       2.0       3   Mid Floor      Relatively New   \n",
       "3285   1.75      4.0       4.0       0  High Floor        New Property   \n",
       "2129   0.26      2.0       2.0       1   Mid Floor      Relatively New   \n",
       "105    0.80      2.0       2.0       2   Mid Floor  Under Construction   \n",
       "1879   0.63      2.0       2.0      3+   Low Floor      Relatively New   \n",
       "\n",
       "          sector   type  built_up_area  study room  servant room  store room  \\\n",
       "2118  sector 103   flat     865.000000           1             0           0   \n",
       "3285   sector 76  house    2800.000000           0             0           0   \n",
       "2129  sohna road   flat     481.684525           0             0           0   \n",
       "105    sector 89   flat    1297.000000           0             0           0   \n",
       "1879   sector 82   flat     907.200000           1             0           0   \n",
       "\n",
       "      pooja room  others  furnishing_type         luxury  \n",
       "2118           0       0                0       luxrious  \n",
       "3285           0       0                2            Low  \n",
       "2129           0       0                2  semi_luxrious  \n",
       "105            0       0                2         Normal  \n",
       "1879           0       0                2  semi_luxrious  "
      ]
     },
     "execution_count": 47,
     "metadata": {},
     "output_type": "execute_result"
    }
   ],
   "source": [
    "train_df.sample(5)"
   ]
  },
  {
   "cell_type": "code",
   "execution_count": 70,
   "id": "da4726a8",
   "metadata": {},
   "outputs": [],
   "source": [
    "train_df['floor_type']=train_df['floor_type'].str.lower()\n",
    "train_df['luxury']=train_df['luxury'].str.lower()\n",
    "train_df['balcony']=train_df['balcony'].astype(str)"
   ]
  },
  {
   "cell_type": "code",
   "execution_count": 71,
   "id": "cb23d8ad",
   "metadata": {},
   "outputs": [
    {
     "data": {
      "text/plain": [
       "array(['low floor', 'high floor', 'mid floor', 'groundfloor', 'hometop'],\n",
       "      dtype=object)"
      ]
     },
     "execution_count": 71,
     "metadata": {},
     "output_type": "execute_result"
    }
   ],
   "source": [
    "train_df['floor_type'].unique()"
   ]
  },
  {
   "cell_type": "code",
   "execution_count": 72,
   "id": "a908de74",
   "metadata": {},
   "outputs": [
    {
     "data": {
      "text/plain": [
       "array(['semi_luxrious', 'normal', 'low', 'luxrious'], dtype=object)"
      ]
     },
     "execution_count": 72,
     "metadata": {},
     "output_type": "execute_result"
    }
   ],
   "source": [
    "train_df['luxury'].unique()"
   ]
  },
  {
   "cell_type": "code",
   "execution_count": 73,
   "id": "ce91b6f4",
   "metadata": {},
   "outputs": [],
   "source": [
    "data=train_df[['floor_type','agePossession','sector','type','luxury','balcony']]"
   ]
  },
  {
   "cell_type": "code",
   "execution_count": 74,
   "id": "47f33754",
   "metadata": {},
   "outputs": [
    {
     "data": {
      "text/html": [
       "<div>\n",
       "<style scoped>\n",
       "    .dataframe tbody tr th:only-of-type {\n",
       "        vertical-align: middle;\n",
       "    }\n",
       "\n",
       "    .dataframe tbody tr th {\n",
       "        vertical-align: top;\n",
       "    }\n",
       "\n",
       "    .dataframe thead th {\n",
       "        text-align: right;\n",
       "    }\n",
       "</style>\n",
       "<table border=\"1\" class=\"dataframe\">\n",
       "  <thead>\n",
       "    <tr style=\"text-align: right;\">\n",
       "      <th></th>\n",
       "      <th>price</th>\n",
       "      <th>bedRoom</th>\n",
       "      <th>bathroom</th>\n",
       "      <th>balcony</th>\n",
       "      <th>floor_type</th>\n",
       "      <th>agePossession</th>\n",
       "      <th>sector</th>\n",
       "      <th>type</th>\n",
       "      <th>built_up_area</th>\n",
       "      <th>study room</th>\n",
       "      <th>servant room</th>\n",
       "      <th>store room</th>\n",
       "      <th>pooja room</th>\n",
       "      <th>others</th>\n",
       "      <th>furnishing_type</th>\n",
       "      <th>luxury</th>\n",
       "    </tr>\n",
       "  </thead>\n",
       "  <tbody>\n",
       "    <tr>\n",
       "      <th>0</th>\n",
       "      <td>0.95</td>\n",
       "      <td>2.0</td>\n",
       "      <td>1.0</td>\n",
       "      <td>1</td>\n",
       "      <td>low floor</td>\n",
       "      <td>Old Property</td>\n",
       "      <td>sector 28</td>\n",
       "      <td>flat</td>\n",
       "      <td>1069.0</td>\n",
       "      <td>0</td>\n",
       "      <td>0</td>\n",
       "      <td>0</td>\n",
       "      <td>0</td>\n",
       "      <td>0</td>\n",
       "      <td>2</td>\n",
       "      <td>semi_luxrious</td>\n",
       "    </tr>\n",
       "    <tr>\n",
       "      <th>1</th>\n",
       "      <td>1.45</td>\n",
       "      <td>3.0</td>\n",
       "      <td>5.0</td>\n",
       "      <td>3</td>\n",
       "      <td>high floor</td>\n",
       "      <td>Relatively New</td>\n",
       "      <td>sector 99a</td>\n",
       "      <td>flat</td>\n",
       "      <td>1597.6</td>\n",
       "      <td>0</td>\n",
       "      <td>1</td>\n",
       "      <td>0</td>\n",
       "      <td>0</td>\n",
       "      <td>1</td>\n",
       "      <td>0</td>\n",
       "      <td>normal</td>\n",
       "    </tr>\n",
       "    <tr>\n",
       "      <th>2</th>\n",
       "      <td>1.26</td>\n",
       "      <td>3.0</td>\n",
       "      <td>3.0</td>\n",
       "      <td>3</td>\n",
       "      <td>low floor</td>\n",
       "      <td>New Property</td>\n",
       "      <td>sector 37c</td>\n",
       "      <td>flat</td>\n",
       "      <td>965.0</td>\n",
       "      <td>0</td>\n",
       "      <td>0</td>\n",
       "      <td>0</td>\n",
       "      <td>0</td>\n",
       "      <td>0</td>\n",
       "      <td>2</td>\n",
       "      <td>low</td>\n",
       "    </tr>\n",
       "    <tr>\n",
       "      <th>3</th>\n",
       "      <td>2.20</td>\n",
       "      <td>3.0</td>\n",
       "      <td>4.0</td>\n",
       "      <td>3+</td>\n",
       "      <td>mid floor</td>\n",
       "      <td>Relatively New</td>\n",
       "      <td>sector 81</td>\n",
       "      <td>flat</td>\n",
       "      <td>1680.0</td>\n",
       "      <td>0</td>\n",
       "      <td>1</td>\n",
       "      <td>0</td>\n",
       "      <td>0</td>\n",
       "      <td>0</td>\n",
       "      <td>1</td>\n",
       "      <td>semi_luxrious</td>\n",
       "    </tr>\n",
       "    <tr>\n",
       "      <th>4</th>\n",
       "      <td>2.40</td>\n",
       "      <td>3.0</td>\n",
       "      <td>4.0</td>\n",
       "      <td>3+</td>\n",
       "      <td>high floor</td>\n",
       "      <td>Relatively New</td>\n",
       "      <td>sector 81</td>\n",
       "      <td>flat</td>\n",
       "      <td>1682.4</td>\n",
       "      <td>0</td>\n",
       "      <td>1</td>\n",
       "      <td>0</td>\n",
       "      <td>0</td>\n",
       "      <td>0</td>\n",
       "      <td>1</td>\n",
       "      <td>luxrious</td>\n",
       "    </tr>\n",
       "  </tbody>\n",
       "</table>\n",
       "</div>"
      ],
      "text/plain": [
       "   price  bedRoom  bathroom balcony  floor_type   agePossession      sector  \\\n",
       "0   0.95      2.0       1.0       1   low floor    Old Property   sector 28   \n",
       "1   1.45      3.0       5.0       3  high floor  Relatively New  sector 99a   \n",
       "2   1.26      3.0       3.0       3   low floor    New Property  sector 37c   \n",
       "3   2.20      3.0       4.0      3+   mid floor  Relatively New   sector 81   \n",
       "4   2.40      3.0       4.0      3+  high floor  Relatively New   sector 81   \n",
       "\n",
       "   type  built_up_area  study room  servant room  store room  pooja room  \\\n",
       "0  flat         1069.0           0             0           0           0   \n",
       "1  flat         1597.6           0             1           0           0   \n",
       "2  flat          965.0           0             0           0           0   \n",
       "3  flat         1680.0           0             1           0           0   \n",
       "4  flat         1682.4           0             1           0           0   \n",
       "\n",
       "   others  furnishing_type         luxury  \n",
       "0       0                2  semi_luxrious  \n",
       "1       1                0         normal  \n",
       "2       0                2            low  \n",
       "3       0                1  semi_luxrious  \n",
       "4       0                1       luxrious  "
      ]
     },
     "execution_count": 74,
     "metadata": {},
     "output_type": "execute_result"
    }
   ],
   "source": [
    "train_df.head(5)"
   ]
  },
  {
   "cell_type": "code",
   "execution_count": 80,
   "id": "e79f7b13",
   "metadata": {},
   "outputs": [
    {
     "data": {
      "text/plain": [
       "(3709, 6)"
      ]
     },
     "execution_count": 80,
     "metadata": {},
     "output_type": "execute_result"
    }
   ],
   "source": [
    "data.shape"
   ]
  },
  {
   "cell_type": "code",
   "execution_count": 51,
   "id": "d1c80024",
   "metadata": {},
   "outputs": [],
   "source": [
    "from sklearn.preprocessing import OrdinalEncoder"
   ]
  },
  {
   "cell_type": "code",
   "execution_count": 96,
   "id": "cd62dbea",
   "metadata": {},
   "outputs": [],
   "source": [
    "from sklearn.compose import ColumnTransformer\n",
    "transformer = ColumnTransformer(transformers=[\n",
    "    ('tnf1', OrdinalEncoder(categories=[['groundfloor','mid floor','high floor','low floor','hometop']]), ['floor_type']),\n",
    "    ('tnf2', OrdinalEncoder(), ['agePossession']),\n",
    "    ('tnf3', OrdinalEncoder(), ['sector']),\n",
    "    ('tnf4', OrdinalEncoder(), ['type']),\n",
    "    ('tnf5', OrdinalEncoder(categories=[['low','normal','semi_luxrious','luxrious']]), ['luxury']),\n",
    "    ('tnf6',OrdinalEncoder(categories=[['1','2','0','3','3+']]),['balcony'])]\n",
    ")"
   ]
  },
  {
   "cell_type": "code",
   "execution_count": 97,
   "id": "5145c896",
   "metadata": {},
   "outputs": [
    {
     "data": {
      "text/html": [
       "<style>#sk-container-id-2 {color: black;background-color: white;}#sk-container-id-2 pre{padding: 0;}#sk-container-id-2 div.sk-toggleable {background-color: white;}#sk-container-id-2 label.sk-toggleable__label {cursor: pointer;display: block;width: 100%;margin-bottom: 0;padding: 0.3em;box-sizing: border-box;text-align: center;}#sk-container-id-2 label.sk-toggleable__label-arrow:before {content: \"▸\";float: left;margin-right: 0.25em;color: #696969;}#sk-container-id-2 label.sk-toggleable__label-arrow:hover:before {color: black;}#sk-container-id-2 div.sk-estimator:hover label.sk-toggleable__label-arrow:before {color: black;}#sk-container-id-2 div.sk-toggleable__content {max-height: 0;max-width: 0;overflow: hidden;text-align: left;background-color: #f0f8ff;}#sk-container-id-2 div.sk-toggleable__content pre {margin: 0.2em;color: black;border-radius: 0.25em;background-color: #f0f8ff;}#sk-container-id-2 input.sk-toggleable__control:checked~div.sk-toggleable__content {max-height: 200px;max-width: 100%;overflow: auto;}#sk-container-id-2 input.sk-toggleable__control:checked~label.sk-toggleable__label-arrow:before {content: \"▾\";}#sk-container-id-2 div.sk-estimator input.sk-toggleable__control:checked~label.sk-toggleable__label {background-color: #d4ebff;}#sk-container-id-2 div.sk-label input.sk-toggleable__control:checked~label.sk-toggleable__label {background-color: #d4ebff;}#sk-container-id-2 input.sk-hidden--visually {border: 0;clip: rect(1px 1px 1px 1px);clip: rect(1px, 1px, 1px, 1px);height: 1px;margin: -1px;overflow: hidden;padding: 0;position: absolute;width: 1px;}#sk-container-id-2 div.sk-estimator {font-family: monospace;background-color: #f0f8ff;border: 1px dotted black;border-radius: 0.25em;box-sizing: border-box;margin-bottom: 0.5em;}#sk-container-id-2 div.sk-estimator:hover {background-color: #d4ebff;}#sk-container-id-2 div.sk-parallel-item::after {content: \"\";width: 100%;border-bottom: 1px solid gray;flex-grow: 1;}#sk-container-id-2 div.sk-label:hover label.sk-toggleable__label {background-color: #d4ebff;}#sk-container-id-2 div.sk-serial::before {content: \"\";position: absolute;border-left: 1px solid gray;box-sizing: border-box;top: 0;bottom: 0;left: 50%;z-index: 0;}#sk-container-id-2 div.sk-serial {display: flex;flex-direction: column;align-items: center;background-color: white;padding-right: 0.2em;padding-left: 0.2em;position: relative;}#sk-container-id-2 div.sk-item {position: relative;z-index: 1;}#sk-container-id-2 div.sk-parallel {display: flex;align-items: stretch;justify-content: center;background-color: white;position: relative;}#sk-container-id-2 div.sk-item::before, #sk-container-id-2 div.sk-parallel-item::before {content: \"\";position: absolute;border-left: 1px solid gray;box-sizing: border-box;top: 0;bottom: 0;left: 50%;z-index: -1;}#sk-container-id-2 div.sk-parallel-item {display: flex;flex-direction: column;z-index: 1;position: relative;background-color: white;}#sk-container-id-2 div.sk-parallel-item:first-child::after {align-self: flex-end;width: 50%;}#sk-container-id-2 div.sk-parallel-item:last-child::after {align-self: flex-start;width: 50%;}#sk-container-id-2 div.sk-parallel-item:only-child::after {width: 0;}#sk-container-id-2 div.sk-dashed-wrapped {border: 1px dashed gray;margin: 0 0.4em 0.5em 0.4em;box-sizing: border-box;padding-bottom: 0.4em;background-color: white;}#sk-container-id-2 div.sk-label label {font-family: monospace;font-weight: bold;display: inline-block;line-height: 1.2em;}#sk-container-id-2 div.sk-label-container {text-align: center;}#sk-container-id-2 div.sk-container {/* jupyter's `normalize.less` sets `[hidden] { display: none; }` but bootstrap.min.css set `[hidden] { display: none !important; }` so we also need the `!important` here to be able to override the default hidden behavior on the sphinx rendered scikit-learn.org. See: https://github.com/scikit-learn/scikit-learn/issues/21755 */display: inline-block !important;position: relative;}#sk-container-id-2 div.sk-text-repr-fallback {display: none;}</style><div id=\"sk-container-id-2\" class=\"sk-top-container\"><div class=\"sk-text-repr-fallback\"><pre>ColumnTransformer(transformers=[(&#x27;tnf1&#x27;,\n",
       "                                 OrdinalEncoder(categories=[[&#x27;groundfloor&#x27;,\n",
       "                                                             &#x27;mid floor&#x27;,\n",
       "                                                             &#x27;high floor&#x27;,\n",
       "                                                             &#x27;low floor&#x27;,\n",
       "                                                             &#x27;hometop&#x27;]]),\n",
       "                                 [&#x27;floor_type&#x27;]),\n",
       "                                (&#x27;tnf2&#x27;, OrdinalEncoder(), [&#x27;agePossession&#x27;]),\n",
       "                                (&#x27;tnf3&#x27;, OrdinalEncoder(), [&#x27;sector&#x27;]),\n",
       "                                (&#x27;tnf4&#x27;, OrdinalEncoder(), [&#x27;type&#x27;]),\n",
       "                                (&#x27;tnf5&#x27;,\n",
       "                                 OrdinalEncoder(categories=[[&#x27;low&#x27;, &#x27;normal&#x27;,\n",
       "                                                             &#x27;semi_luxrious&#x27;,\n",
       "                                                             &#x27;luxrious&#x27;]]),\n",
       "                                 [&#x27;luxury&#x27;]),\n",
       "                                (&#x27;tnf6&#x27;,\n",
       "                                 OrdinalEncoder(categories=[[&#x27;1&#x27;, &#x27;2&#x27;, &#x27;0&#x27;, &#x27;3&#x27;,\n",
       "                                                             &#x27;3+&#x27;]]),\n",
       "                                 [&#x27;balcony&#x27;])])</pre><b>In a Jupyter environment, please rerun this cell to show the HTML representation or trust the notebook. <br />On GitHub, the HTML representation is unable to render, please try loading this page with nbviewer.org.</b></div><div class=\"sk-container\" hidden><div class=\"sk-item sk-dashed-wrapped\"><div class=\"sk-label-container\"><div class=\"sk-label sk-toggleable\"><input class=\"sk-toggleable__control sk-hidden--visually\" id=\"sk-estimator-id-14\" type=\"checkbox\" ><label for=\"sk-estimator-id-14\" class=\"sk-toggleable__label sk-toggleable__label-arrow\">ColumnTransformer</label><div class=\"sk-toggleable__content\"><pre>ColumnTransformer(transformers=[(&#x27;tnf1&#x27;,\n",
       "                                 OrdinalEncoder(categories=[[&#x27;groundfloor&#x27;,\n",
       "                                                             &#x27;mid floor&#x27;,\n",
       "                                                             &#x27;high floor&#x27;,\n",
       "                                                             &#x27;low floor&#x27;,\n",
       "                                                             &#x27;hometop&#x27;]]),\n",
       "                                 [&#x27;floor_type&#x27;]),\n",
       "                                (&#x27;tnf2&#x27;, OrdinalEncoder(), [&#x27;agePossession&#x27;]),\n",
       "                                (&#x27;tnf3&#x27;, OrdinalEncoder(), [&#x27;sector&#x27;]),\n",
       "                                (&#x27;tnf4&#x27;, OrdinalEncoder(), [&#x27;type&#x27;]),\n",
       "                                (&#x27;tnf5&#x27;,\n",
       "                                 OrdinalEncoder(categories=[[&#x27;low&#x27;, &#x27;normal&#x27;,\n",
       "                                                             &#x27;semi_luxrious&#x27;,\n",
       "                                                             &#x27;luxrious&#x27;]]),\n",
       "                                 [&#x27;luxury&#x27;]),\n",
       "                                (&#x27;tnf6&#x27;,\n",
       "                                 OrdinalEncoder(categories=[[&#x27;1&#x27;, &#x27;2&#x27;, &#x27;0&#x27;, &#x27;3&#x27;,\n",
       "                                                             &#x27;3+&#x27;]]),\n",
       "                                 [&#x27;balcony&#x27;])])</pre></div></div></div><div class=\"sk-parallel\"><div class=\"sk-parallel-item\"><div class=\"sk-item\"><div class=\"sk-label-container\"><div class=\"sk-label sk-toggleable\"><input class=\"sk-toggleable__control sk-hidden--visually\" id=\"sk-estimator-id-15\" type=\"checkbox\" ><label for=\"sk-estimator-id-15\" class=\"sk-toggleable__label sk-toggleable__label-arrow\">tnf1</label><div class=\"sk-toggleable__content\"><pre>[&#x27;floor_type&#x27;]</pre></div></div></div><div class=\"sk-serial\"><div class=\"sk-item\"><div class=\"sk-estimator sk-toggleable\"><input class=\"sk-toggleable__control sk-hidden--visually\" id=\"sk-estimator-id-16\" type=\"checkbox\" ><label for=\"sk-estimator-id-16\" class=\"sk-toggleable__label sk-toggleable__label-arrow\">OrdinalEncoder</label><div class=\"sk-toggleable__content\"><pre>OrdinalEncoder(categories=[[&#x27;groundfloor&#x27;, &#x27;mid floor&#x27;, &#x27;high floor&#x27;,\n",
       "                            &#x27;low floor&#x27;, &#x27;hometop&#x27;]])</pre></div></div></div></div></div></div><div class=\"sk-parallel-item\"><div class=\"sk-item\"><div class=\"sk-label-container\"><div class=\"sk-label sk-toggleable\"><input class=\"sk-toggleable__control sk-hidden--visually\" id=\"sk-estimator-id-17\" type=\"checkbox\" ><label for=\"sk-estimator-id-17\" class=\"sk-toggleable__label sk-toggleable__label-arrow\">tnf2</label><div class=\"sk-toggleable__content\"><pre>[&#x27;agePossession&#x27;]</pre></div></div></div><div class=\"sk-serial\"><div class=\"sk-item\"><div class=\"sk-estimator sk-toggleable\"><input class=\"sk-toggleable__control sk-hidden--visually\" id=\"sk-estimator-id-18\" type=\"checkbox\" ><label for=\"sk-estimator-id-18\" class=\"sk-toggleable__label sk-toggleable__label-arrow\">OrdinalEncoder</label><div class=\"sk-toggleable__content\"><pre>OrdinalEncoder()</pre></div></div></div></div></div></div><div class=\"sk-parallel-item\"><div class=\"sk-item\"><div class=\"sk-label-container\"><div class=\"sk-label sk-toggleable\"><input class=\"sk-toggleable__control sk-hidden--visually\" id=\"sk-estimator-id-19\" type=\"checkbox\" ><label for=\"sk-estimator-id-19\" class=\"sk-toggleable__label sk-toggleable__label-arrow\">tnf3</label><div class=\"sk-toggleable__content\"><pre>[&#x27;sector&#x27;]</pre></div></div></div><div class=\"sk-serial\"><div class=\"sk-item\"><div class=\"sk-estimator sk-toggleable\"><input class=\"sk-toggleable__control sk-hidden--visually\" id=\"sk-estimator-id-20\" type=\"checkbox\" ><label for=\"sk-estimator-id-20\" class=\"sk-toggleable__label sk-toggleable__label-arrow\">OrdinalEncoder</label><div class=\"sk-toggleable__content\"><pre>OrdinalEncoder()</pre></div></div></div></div></div></div><div class=\"sk-parallel-item\"><div class=\"sk-item\"><div class=\"sk-label-container\"><div class=\"sk-label sk-toggleable\"><input class=\"sk-toggleable__control sk-hidden--visually\" id=\"sk-estimator-id-21\" type=\"checkbox\" ><label for=\"sk-estimator-id-21\" class=\"sk-toggleable__label sk-toggleable__label-arrow\">tnf4</label><div class=\"sk-toggleable__content\"><pre>[&#x27;type&#x27;]</pre></div></div></div><div class=\"sk-serial\"><div class=\"sk-item\"><div class=\"sk-estimator sk-toggleable\"><input class=\"sk-toggleable__control sk-hidden--visually\" id=\"sk-estimator-id-22\" type=\"checkbox\" ><label for=\"sk-estimator-id-22\" class=\"sk-toggleable__label sk-toggleable__label-arrow\">OrdinalEncoder</label><div class=\"sk-toggleable__content\"><pre>OrdinalEncoder()</pre></div></div></div></div></div></div><div class=\"sk-parallel-item\"><div class=\"sk-item\"><div class=\"sk-label-container\"><div class=\"sk-label sk-toggleable\"><input class=\"sk-toggleable__control sk-hidden--visually\" id=\"sk-estimator-id-23\" type=\"checkbox\" ><label for=\"sk-estimator-id-23\" class=\"sk-toggleable__label sk-toggleable__label-arrow\">tnf5</label><div class=\"sk-toggleable__content\"><pre>[&#x27;luxury&#x27;]</pre></div></div></div><div class=\"sk-serial\"><div class=\"sk-item\"><div class=\"sk-estimator sk-toggleable\"><input class=\"sk-toggleable__control sk-hidden--visually\" id=\"sk-estimator-id-24\" type=\"checkbox\" ><label for=\"sk-estimator-id-24\" class=\"sk-toggleable__label sk-toggleable__label-arrow\">OrdinalEncoder</label><div class=\"sk-toggleable__content\"><pre>OrdinalEncoder(categories=[[&#x27;low&#x27;, &#x27;normal&#x27;, &#x27;semi_luxrious&#x27;, &#x27;luxrious&#x27;]])</pre></div></div></div></div></div></div><div class=\"sk-parallel-item\"><div class=\"sk-item\"><div class=\"sk-label-container\"><div class=\"sk-label sk-toggleable\"><input class=\"sk-toggleable__control sk-hidden--visually\" id=\"sk-estimator-id-25\" type=\"checkbox\" ><label for=\"sk-estimator-id-25\" class=\"sk-toggleable__label sk-toggleable__label-arrow\">tnf6</label><div class=\"sk-toggleable__content\"><pre>[&#x27;balcony&#x27;]</pre></div></div></div><div class=\"sk-serial\"><div class=\"sk-item\"><div class=\"sk-estimator sk-toggleable\"><input class=\"sk-toggleable__control sk-hidden--visually\" id=\"sk-estimator-id-26\" type=\"checkbox\" ><label for=\"sk-estimator-id-26\" class=\"sk-toggleable__label sk-toggleable__label-arrow\">OrdinalEncoder</label><div class=\"sk-toggleable__content\"><pre>OrdinalEncoder(categories=[[&#x27;1&#x27;, &#x27;2&#x27;, &#x27;0&#x27;, &#x27;3&#x27;, &#x27;3+&#x27;]])</pre></div></div></div></div></div></div></div></div></div></div>"
      ],
      "text/plain": [
       "ColumnTransformer(transformers=[('tnf1',\n",
       "                                 OrdinalEncoder(categories=[['groundfloor',\n",
       "                                                             'mid floor',\n",
       "                                                             'high floor',\n",
       "                                                             'low floor',\n",
       "                                                             'hometop']]),\n",
       "                                 ['floor_type']),\n",
       "                                ('tnf2', OrdinalEncoder(), ['agePossession']),\n",
       "                                ('tnf3', OrdinalEncoder(), ['sector']),\n",
       "                                ('tnf4', OrdinalEncoder(), ['type']),\n",
       "                                ('tnf5',\n",
       "                                 OrdinalEncoder(categories=[['low', 'normal',\n",
       "                                                             'semi_luxrious',\n",
       "                                                             'luxrious']]),\n",
       "                                 ['luxury']),\n",
       "                                ('tnf6',\n",
       "                                 OrdinalEncoder(categories=[['1', '2', '0', '3',\n",
       "                                                             '3+']]),\n",
       "                                 ['balcony'])])"
      ]
     },
     "execution_count": 97,
     "metadata": {},
     "output_type": "execute_result"
    }
   ],
   "source": [
    "transformer"
   ]
  },
  {
   "cell_type": "code",
   "execution_count": 107,
   "id": "b47ede7f",
   "metadata": {},
   "outputs": [],
   "source": [
    "train1_df=transformer.fit_transform(data)"
   ]
  },
  {
   "cell_type": "code",
   "execution_count": 108,
   "id": "9e20d1d8",
   "metadata": {},
   "outputs": [],
   "source": [
    "train1_df=pd.DataFrame(train1_df,columns=data.columns)"
   ]
  },
  {
   "cell_type": "code",
   "execution_count": 109,
   "id": "26cd0032",
   "metadata": {},
   "outputs": [
    {
     "data": {
      "text/html": [
       "<div>\n",
       "<style scoped>\n",
       "    .dataframe tbody tr th:only-of-type {\n",
       "        vertical-align: middle;\n",
       "    }\n",
       "\n",
       "    .dataframe tbody tr th {\n",
       "        vertical-align: top;\n",
       "    }\n",
       "\n",
       "    .dataframe thead th {\n",
       "        text-align: right;\n",
       "    }\n",
       "</style>\n",
       "<table border=\"1\" class=\"dataframe\">\n",
       "  <thead>\n",
       "    <tr style=\"text-align: right;\">\n",
       "      <th></th>\n",
       "      <th>floor_type</th>\n",
       "      <th>agePossession</th>\n",
       "      <th>sector</th>\n",
       "      <th>type</th>\n",
       "      <th>luxury</th>\n",
       "      <th>balcony</th>\n",
       "    </tr>\n",
       "  </thead>\n",
       "  <tbody>\n",
       "    <tr>\n",
       "      <th>0</th>\n",
       "      <td>3.0</td>\n",
       "      <td>2.0</td>\n",
       "      <td>98.0</td>\n",
       "      <td>0.0</td>\n",
       "      <td>2.0</td>\n",
       "      <td>0.0</td>\n",
       "    </tr>\n",
       "    <tr>\n",
       "      <th>1</th>\n",
       "      <td>2.0</td>\n",
       "      <td>3.0</td>\n",
       "      <td>181.0</td>\n",
       "      <td>0.0</td>\n",
       "      <td>1.0</td>\n",
       "      <td>3.0</td>\n",
       "    </tr>\n",
       "    <tr>\n",
       "      <th>2</th>\n",
       "      <td>3.0</td>\n",
       "      <td>1.0</td>\n",
       "      <td>110.0</td>\n",
       "      <td>0.0</td>\n",
       "      <td>0.0</td>\n",
       "      <td>3.0</td>\n",
       "    </tr>\n",
       "    <tr>\n",
       "      <th>3</th>\n",
       "      <td>1.0</td>\n",
       "      <td>3.0</td>\n",
       "      <td>164.0</td>\n",
       "      <td>0.0</td>\n",
       "      <td>2.0</td>\n",
       "      <td>4.0</td>\n",
       "    </tr>\n",
       "    <tr>\n",
       "      <th>4</th>\n",
       "      <td>2.0</td>\n",
       "      <td>3.0</td>\n",
       "      <td>164.0</td>\n",
       "      <td>0.0</td>\n",
       "      <td>3.0</td>\n",
       "      <td>4.0</td>\n",
       "    </tr>\n",
       "    <tr>\n",
       "      <th>...</th>\n",
       "      <td>...</td>\n",
       "      <td>...</td>\n",
       "      <td>...</td>\n",
       "      <td>...</td>\n",
       "      <td>...</td>\n",
       "      <td>...</td>\n",
       "    </tr>\n",
       "    <tr>\n",
       "      <th>3704</th>\n",
       "      <td>1.0</td>\n",
       "      <td>3.0</td>\n",
       "      <td>175.0</td>\n",
       "      <td>0.0</td>\n",
       "      <td>0.0</td>\n",
       "      <td>3.0</td>\n",
       "    </tr>\n",
       "    <tr>\n",
       "      <th>3705</th>\n",
       "      <td>2.0</td>\n",
       "      <td>1.0</td>\n",
       "      <td>190.0</td>\n",
       "      <td>0.0</td>\n",
       "      <td>1.0</td>\n",
       "      <td>0.0</td>\n",
       "    </tr>\n",
       "    <tr>\n",
       "      <th>3706</th>\n",
       "      <td>2.0</td>\n",
       "      <td>3.0</td>\n",
       "      <td>145.0</td>\n",
       "      <td>0.0</td>\n",
       "      <td>2.0</td>\n",
       "      <td>1.0</td>\n",
       "    </tr>\n",
       "    <tr>\n",
       "      <th>3707</th>\n",
       "      <td>2.0</td>\n",
       "      <td>3.0</td>\n",
       "      <td>146.0</td>\n",
       "      <td>0.0</td>\n",
       "      <td>3.0</td>\n",
       "      <td>3.0</td>\n",
       "    </tr>\n",
       "    <tr>\n",
       "      <th>3708</th>\n",
       "      <td>3.0</td>\n",
       "      <td>1.0</td>\n",
       "      <td>181.0</td>\n",
       "      <td>0.0</td>\n",
       "      <td>1.0</td>\n",
       "      <td>0.0</td>\n",
       "    </tr>\n",
       "  </tbody>\n",
       "</table>\n",
       "<p>3709 rows × 6 columns</p>\n",
       "</div>"
      ],
      "text/plain": [
       "      floor_type  agePossession  sector  type  luxury  balcony\n",
       "0            3.0            2.0    98.0   0.0     2.0      0.0\n",
       "1            2.0            3.0   181.0   0.0     1.0      3.0\n",
       "2            3.0            1.0   110.0   0.0     0.0      3.0\n",
       "3            1.0            3.0   164.0   0.0     2.0      4.0\n",
       "4            2.0            3.0   164.0   0.0     3.0      4.0\n",
       "...          ...            ...     ...   ...     ...      ...\n",
       "3704         1.0            3.0   175.0   0.0     0.0      3.0\n",
       "3705         2.0            1.0   190.0   0.0     1.0      0.0\n",
       "3706         2.0            3.0   145.0   0.0     2.0      1.0\n",
       "3707         2.0            3.0   146.0   0.0     3.0      3.0\n",
       "3708         3.0            1.0   181.0   0.0     1.0      0.0\n",
       "\n",
       "[3709 rows x 6 columns]"
      ]
     },
     "execution_count": 109,
     "metadata": {},
     "output_type": "execute_result"
    }
   ],
   "source": [
    "train1_df"
   ]
  },
  {
   "cell_type": "code",
   "execution_count": 110,
   "id": "1e3d0bf1",
   "metadata": {},
   "outputs": [],
   "source": [
    "train_df.drop(columns=data.columns,axis=1,inplace=True)"
   ]
  },
  {
   "cell_type": "code",
   "execution_count": 112,
   "id": "2eec12da",
   "metadata": {},
   "outputs": [],
   "source": [
    "train_df=pd.concat([train_df,train1_df],axis=1)"
   ]
  },
  {
   "cell_type": "code",
   "execution_count": 114,
   "id": "c87668a5",
   "metadata": {},
   "outputs": [
    {
     "data": {
      "text/html": [
       "<div>\n",
       "<style scoped>\n",
       "    .dataframe tbody tr th:only-of-type {\n",
       "        vertical-align: middle;\n",
       "    }\n",
       "\n",
       "    .dataframe tbody tr th {\n",
       "        vertical-align: top;\n",
       "    }\n",
       "\n",
       "    .dataframe thead th {\n",
       "        text-align: right;\n",
       "    }\n",
       "</style>\n",
       "<table border=\"1\" class=\"dataframe\">\n",
       "  <thead>\n",
       "    <tr style=\"text-align: right;\">\n",
       "      <th></th>\n",
       "      <th>price</th>\n",
       "      <th>bedRoom</th>\n",
       "      <th>bathroom</th>\n",
       "      <th>built_up_area</th>\n",
       "      <th>study room</th>\n",
       "      <th>servant room</th>\n",
       "      <th>store room</th>\n",
       "      <th>pooja room</th>\n",
       "      <th>others</th>\n",
       "      <th>furnishing_type</th>\n",
       "      <th>floor_type</th>\n",
       "      <th>agePossession</th>\n",
       "      <th>sector</th>\n",
       "      <th>type</th>\n",
       "      <th>luxury</th>\n",
       "      <th>balcony</th>\n",
       "    </tr>\n",
       "  </thead>\n",
       "  <tbody>\n",
       "    <tr>\n",
       "      <th>0</th>\n",
       "      <td>0.95</td>\n",
       "      <td>2.0</td>\n",
       "      <td>1.0</td>\n",
       "      <td>1069.0</td>\n",
       "      <td>0</td>\n",
       "      <td>0</td>\n",
       "      <td>0</td>\n",
       "      <td>0</td>\n",
       "      <td>0</td>\n",
       "      <td>2</td>\n",
       "      <td>3.0</td>\n",
       "      <td>2.0</td>\n",
       "      <td>98.0</td>\n",
       "      <td>0.0</td>\n",
       "      <td>2.0</td>\n",
       "      <td>0.0</td>\n",
       "    </tr>\n",
       "    <tr>\n",
       "      <th>1</th>\n",
       "      <td>1.45</td>\n",
       "      <td>3.0</td>\n",
       "      <td>5.0</td>\n",
       "      <td>1597.6</td>\n",
       "      <td>0</td>\n",
       "      <td>1</td>\n",
       "      <td>0</td>\n",
       "      <td>0</td>\n",
       "      <td>1</td>\n",
       "      <td>0</td>\n",
       "      <td>2.0</td>\n",
       "      <td>3.0</td>\n",
       "      <td>181.0</td>\n",
       "      <td>0.0</td>\n",
       "      <td>1.0</td>\n",
       "      <td>3.0</td>\n",
       "    </tr>\n",
       "    <tr>\n",
       "      <th>2</th>\n",
       "      <td>1.26</td>\n",
       "      <td>3.0</td>\n",
       "      <td>3.0</td>\n",
       "      <td>965.0</td>\n",
       "      <td>0</td>\n",
       "      <td>0</td>\n",
       "      <td>0</td>\n",
       "      <td>0</td>\n",
       "      <td>0</td>\n",
       "      <td>2</td>\n",
       "      <td>3.0</td>\n",
       "      <td>1.0</td>\n",
       "      <td>110.0</td>\n",
       "      <td>0.0</td>\n",
       "      <td>0.0</td>\n",
       "      <td>3.0</td>\n",
       "    </tr>\n",
       "    <tr>\n",
       "      <th>3</th>\n",
       "      <td>2.20</td>\n",
       "      <td>3.0</td>\n",
       "      <td>4.0</td>\n",
       "      <td>1680.0</td>\n",
       "      <td>0</td>\n",
       "      <td>1</td>\n",
       "      <td>0</td>\n",
       "      <td>0</td>\n",
       "      <td>0</td>\n",
       "      <td>1</td>\n",
       "      <td>1.0</td>\n",
       "      <td>3.0</td>\n",
       "      <td>164.0</td>\n",
       "      <td>0.0</td>\n",
       "      <td>2.0</td>\n",
       "      <td>4.0</td>\n",
       "    </tr>\n",
       "    <tr>\n",
       "      <th>4</th>\n",
       "      <td>2.40</td>\n",
       "      <td>3.0</td>\n",
       "      <td>4.0</td>\n",
       "      <td>1682.4</td>\n",
       "      <td>0</td>\n",
       "      <td>1</td>\n",
       "      <td>0</td>\n",
       "      <td>0</td>\n",
       "      <td>0</td>\n",
       "      <td>1</td>\n",
       "      <td>2.0</td>\n",
       "      <td>3.0</td>\n",
       "      <td>164.0</td>\n",
       "      <td>0.0</td>\n",
       "      <td>3.0</td>\n",
       "      <td>4.0</td>\n",
       "    </tr>\n",
       "  </tbody>\n",
       "</table>\n",
       "</div>"
      ],
      "text/plain": [
       "   price  bedRoom  bathroom  built_up_area  study room  servant room  \\\n",
       "0   0.95      2.0       1.0         1069.0           0             0   \n",
       "1   1.45      3.0       5.0         1597.6           0             1   \n",
       "2   1.26      3.0       3.0          965.0           0             0   \n",
       "3   2.20      3.0       4.0         1680.0           0             1   \n",
       "4   2.40      3.0       4.0         1682.4           0             1   \n",
       "\n",
       "   store room  pooja room  others  furnishing_type  floor_type  agePossession  \\\n",
       "0           0           0       0                2         3.0            2.0   \n",
       "1           0           0       1                0         2.0            3.0   \n",
       "2           0           0       0                2         3.0            1.0   \n",
       "3           0           0       0                1         1.0            3.0   \n",
       "4           0           0       0                1         2.0            3.0   \n",
       "\n",
       "   sector  type  luxury  balcony  \n",
       "0    98.0   0.0     2.0      0.0  \n",
       "1   181.0   0.0     1.0      3.0  \n",
       "2   110.0   0.0     0.0      3.0  \n",
       "3   164.0   0.0     2.0      4.0  \n",
       "4   164.0   0.0     3.0      4.0  "
      ]
     },
     "execution_count": 114,
     "metadata": {},
     "output_type": "execute_result"
    }
   ],
   "source": [
    "train_df.head(5)"
   ]
  },
  {
   "cell_type": "code",
   "execution_count": null,
   "id": "4895f9ec",
   "metadata": {},
   "outputs": [],
   "source": [
    "train_df.to_csv('')"
   ]
  }
 ],
 "metadata": {
  "kernelspec": {
   "display_name": "Python 3 (ipykernel)",
   "language": "python",
   "name": "python3"
  },
  "language_info": {
   "codemirror_mode": {
    "name": "ipython",
    "version": 3
   },
   "file_extension": ".py",
   "mimetype": "text/x-python",
   "name": "python",
   "nbconvert_exporter": "python",
   "pygments_lexer": "ipython3",
   "version": "3.9.13"
  }
 },
 "nbformat": 4,
 "nbformat_minor": 5
}
